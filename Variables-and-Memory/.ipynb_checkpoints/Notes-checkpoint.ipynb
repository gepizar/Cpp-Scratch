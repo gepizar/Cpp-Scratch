{
 "cells": [
  {
   "cell_type": "markdown",
   "metadata": {
    "heading_collapsed": true
   },
   "source": [
    "# Memory Types"
   ]
  },
  {
   "cell_type": "markdown",
   "metadata": {
    "heading_collapsed": true,
    "hidden": true
   },
   "source": [
    "## Variables and Memory"
   ]
  },
  {
   "cell_type": "markdown",
   "metadata": {
    "hidden": true
   },
   "source": [
    "Notes taken from Udacity Cpp Nanodregree"
   ]
  },
  {
   "cell_type": "markdown",
   "metadata": {
    "hidden": true
   },
   "source": [
    "<img width=\"400\" src=\"figs/virtualmemory.png\">\n",
    "\n",
    "** Figure 1: Virtual Memory **"
   ]
  },
  {
   "cell_type": "markdown",
   "metadata": {
    "hidden": true
   },
   "source": [
    "\n",
    "\n",
    "* The **stack** is a contiguous memory block with a fixed maximum size. If a program exceeds this size, it will crash. The stack is used for storing automatically allocated variables such as local variables or function parameters. If there are multiple threads in a program, then each thread has its own stack memory. New memory on the stack is allocated when the path of execution enters a scope and freed again once the scope is left. It is important to know that the stack is managed \"automatically\" by the compiler, which means we do not have to concern ourselves with allocation and deallocation.\n",
    "\n",
    "* The **heap** (also called \"free store\" in C++) is where data with dynamic storage lives. It is shared among multiple threads in a program, which means that memory management for the heap needs to take concurrency into account. This makes memory allocations in the heap more complicated than stack allocations. In general, managing memory on the heap is more (computationally) expensive for the operating system, which makes it slower than stack memory. Contrary to the stack, the heap is not managed automatically by the system, but by the programmer. If memory is allocated on the heap, it is the programmer’s responsibility to free it again when it is no longer needed. If the programmer manages the heap poorly or not at all, there will be trouble.\n",
    "\n",
    "* The **BSS** (Block Started by Symbol) segment is used in many compilers and linkers for a segment that contains global and static variables that are initialized with zero values. This memory area is suitable, for example, for arrays that are not initialized with predefined values.\n",
    "\n",
    "* The **Data segment** serves the same purpose as the BSS segment with the major difference being that variables in the Data segment have been initialized with a value other than zero. Memory for variables in the Data segment (and in BSS) is allocated once when a program is run and persists throughout its lifetime.\n"
   ]
  },
  {
   "cell_type": "markdown",
   "metadata": {
    "heading_collapsed": true,
    "hidden": true
   },
   "source": [
    "### Memory allocation"
   ]
  },
  {
   "cell_type": "markdown",
   "metadata": {
    "hidden": true
   },
   "source": [
    "* **Static memory allocation** is performed for static and global variables, which are stored in the BSS and Data segment. Memory for these types of variables is allocated once when your program is run and persists throughout the life of your program.\n",
    "\n",
    "* **Automatic memory allocation** is performed for function parameters as well as local variables, which are stored on the stack. Memory for these types of variables is allocated when the path of execution enters a scope and freed again once the scope is left.\n",
    "\n",
    "* **Dynamic memory allocation** is a possibility for programs to request memory from the operating system at runtime when needed. This is the major difference to automatic and static allocation, where the size of the variable must be known at compile time. Dynamic memory allocation is not performed on the limited stack but on the heap and is thus (almost) only limited by the size of the address space.\n"
   ]
  },
  {
   "cell_type": "markdown",
   "metadata": {
    "heading_collapsed": true,
    "hidden": true
   },
   "source": [
    "## Properties of Stack Memory"
   ]
  },
  {
   "cell_type": "markdown",
   "metadata": {
    "hidden": true
   },
   "source": [
    "* The stack is a **contiguous block of memory**. It will not become fragmented (as opposed to the heap) and it has a fixed maximum size.\n",
    "\n",
    "* When the **maximum size of the stack** memory is exceeded, a program will crash.\n",
    "\n",
    "* Allocating and deallocating **memory is fast** on the stack. It only involves moving the stack pointer to a new position.\n",
    "\n",
    "* When using **multiple threads** (as in concurrent programming), it is important to know that **each thread has its own stack memory** - which can be considered thread-safe. \n"
   ]
  },
  {
   "cell_type": "markdown",
   "metadata": {
    "heading_collapsed": true,
    "hidden": true
   },
   "source": [
    "### Example 01 Stack Growth and Contraction"
   ]
  },
  {
   "cell_type": "markdown",
   "metadata": {
    "hidden": true
   },
   "source": [
    "In this example we can see that memory is contigouos for i = 1, 2, 4. But for function \"MyFunc()\"  it uses a part of the memory that is before the main() declaration\n",
    "\n",
    "```\n",
    "1: 0x7fff20c3f53c \n",
    "2: 0x7fff20c3f540 \n",
    "3: 0x7fff20c3f514 -> MyFunc()\n",
    "4: 0x7fff20c3f544 \n",
    "``` \n",
    "\n",
    "Between 2 and 3, the address pointer is moved by 0x28.\n",
    "MyFunc, the compiler needs to store additional data such as the return address. \n"
   ]
  },
  {
   "cell_type": "markdown",
   "metadata": {
    "hidden": true
   },
   "source": [
    "<img width=\"400\" src=\"figs/growthandcontracts.png\">\n",
    "\n",
    "** Figure 1: Stack Growth and Contracts **"
   ]
  },
  {
   "cell_type": "markdown",
   "metadata": {
    "hidden": true
   },
   "source": [
    "When a thread is created, stack memory is allocated by the operating system as a contiguous block. With each new function call or local variable allocation, the stack pointer is moved until eventually it will reach the bottom of said memory block. Once it exceeds this limit (which is called \"stack overflow\"), the program will crash. We will try to find out the limit of your computer’s stack memory in the following exercise."
   ]
  },
  {
   "cell_type": "markdown",
   "metadata": {
    "heading_collapsed": true,
    "hidden": true
   },
   "source": [
    "### Pointers vs. References"
   ]
  },
  {
   "cell_type": "markdown",
   "metadata": {
    "hidden": true
   },
   "source": [
    "\n",
    "As we have seen in the examples above, the use of pointers and references to directly manipulate function arguments in a memory-effective way is very similar. Let us compare the two methods in the code on the right.\n",
    "\n",
    "As can be seen, pointer and reference are both implemented by using a memory address. In the case of AddFour the caller does not even realize that val might be modified while with AddSix, the reference to val has to be explicitly written by using &.\n",
    "\n",
    "If passing by value needs to be avoided, both pointers and references are a way to achieve this. The following selection of properties contrasts the two methods so it will be easier to decide which to use from the perspective of the use-case at hand:\n",
    "\n",
    "* Pointers can be declared without initialization. This means we can pass an uninitialized pointer to a function who then internally performs the initialization for us.\n",
    "\n",
    "* Pointers can be reassigned to another memory block on the heap.\n",
    "\n",
    "* References are usually easier to use (depending on the expertise level of the programmer). Sometimes however, if a third-party function is used without properly looking at the parameter definition, it might go unnoticed that a value has been modified.\n",
    "\n"
   ]
  },
  {
   "cell_type": "markdown",
   "metadata": {
    "hidden": true
   },
   "source": [
    "Now, we will compare the three strategies we have seen so far with regard to stack memory usage. Consider the code on the right.\n",
    "\n",
    "After creating a local variable i in main to give us the address of the stack bottom, we are passing i by-value to our first function. Inside CallByValue, the memory address of a local variable j is printed to the console, which serves as a marker for the stack pointer. With the second function call in main, we are passing a reference to i to CallByPointer. Lastly, the function CallByReference is called in main, which again takes the integer i as an argument. However, from looking at main alone, we can not tell wether i will be passed by value or by reference.\n",
    "\n",
    "On my machine, when compiled with g++ (Apple clang version 11.0.0), the program produces the following output:\n",
    "\n",
    "    stack bottom: 0x7ffeefbff698\n",
    "    call-by-value: 0x7ffeefbff678\n",
    "    call-by-pointer: 0x7ffeefbff674\n",
    "    call-by-reference: 0x7ffeefbff674\n",
    "\n",
    "Depending on your system, the compiler you use and the compiler optimization techniques, you man not always see this result. In some cases\n",
    "\n",
    "Let us take a look at the respective differences to the stack bottom in turn:\n",
    "\n",
    "* CallByValue requires 32 bytes of memory. As discussed before, this is reserved for e.g. the function return address and for the local variables within the function (including the copy of i).\n",
    "\n",
    "* CallByPointer on the other hand requires - perhaps surprisingly - 36 bytes of memory. Let us complete the examination before going into more details on this result.\n",
    "\n",
    "Let us take a look at the size of the various parameter types using the sizeof command:\n",
    "\n",
    "    printf(\"size of int: %lu\\n\", sizeof(int));\n",
    "    printf(\"size of *int: %lu\\n\", sizeof(int *));\n",
    "\n",
    "The output here is\n",
    "\n",
    "    size of int: 4\n",
    "    size of *int: 8\n",
    "\n",
    "Obviously, the size of the pointer variable is larger than the actual data type. As my machine has a 64 bit architecture, an address requires 8 byte.\n",
    "\n",
    "As an experiment, you could use the -m32 compiler flag to build a 32 bit version of the program. This yields the following output:\n",
    "\n",
    "    size of int: 4\n",
    "    size of *int: 4\n",
    "\n",
    "In order to benefit from call-by-reference, the size of the data type \n"
   ]
  },
  {
   "cell_type": "markdown",
   "metadata": {
    "heading_collapsed": true
   },
   "source": [
    "# Dynamic Memory Allocation"
   ]
  },
  {
   "cell_type": "markdown",
   "metadata": {
    "heading_collapsed": true,
    "hidden": true
   },
   "source": [
    "## Heap"
   ]
  },
  {
   "cell_type": "markdown",
   "metadata": {
    "hidden": true
   },
   "source": [
    "Let us take a look at some properties of heap memory:\n",
    "\n",
    "* As opposed to local variables on the stack, memory can now be allocated in an arbitrary scope (e.g. inside a function) without it being deleted when the scope is left. Thus, as long as the address to an allocated block of memory is returned by a function, the caller can freely use it.\n",
    "\n",
    "* Local variables on the stack are allocated at compile-time. Thus, the size of e.g. a string variable might not be appropriate as the length of the string will not be known until the program is executed and the user inputs it. With local variables, a solution would be to allocate a long-enough array of and hope that the actual length does not exceed the buffer size. With dynamically allocated heap memory, variables are allocated at run-time. This means that the size of the above-mentioned string variable can be tailored to the actual length of the user input.\n",
    "\n",
    "* Heap memory is only constrained by the size of the address space and by the available memory. With modern 64 bit operating systems and large RAM memory and hard disks the programmer commands a vast amount of memory. However, if the programmer forgets to deallocate a block of heap memory, it will remain unused until the program is terminated. This is called a \"memory leak\".\n",
    "\n",
    "* Unlike the stack, the heap is shared among multiple threads, which means that memory management for the heap needs to take concurrency into account as several threads might compete for the same memory resource.\n",
    "\n",
    "* When memory is allocated or deallocated on the stack, the stack pointer is simply shifted upwards or downwards. Due to the sequential structure of stack memory management, stack memory can be managed (by the operating system) easily and securely. With heap memory, allocation and deallocation can occur arbitrarily, depending on the lifetime of the variables. This can result in fragmented memory over time, which is much more difficult and expensive to manage.\n"
   ]
  },
  {
   "cell_type": "markdown",
   "metadata": {
    "heading_collapsed": true,
    "hidden": true
   },
   "source": [
    "### Memory Fragmentation\n"
   ]
  },
  {
   "cell_type": "markdown",
   "metadata": {
    "hidden": true
   },
   "source": [
    "\n",
    "A classic symptom of memory fragmentation is that you try to allocate a large block and you can’t, even though you appear to have enough memory free. On systems with virtual memory however, this is less of a problem, because large allocations only need to be contiguous in virtual address space, not in physical address space.\n",
    "\n",
    "    C   : malloc and free\n",
    "    C++ : new and delete "
   ]
  },
  {
   "cell_type": "markdown",
   "metadata": {
    "heading_collapsed": true,
    "hidden": true
   },
   "source": [
    "### Allocating Dynamic Memory"
   ]
  },
  {
   "cell_type": "markdown",
   "metadata": {
    "hidden": true
   },
   "source": [
    "To reserve memory on the heap, one of the two functions malloc (stands for Memory Allocation) or calloc (stands for Cleared Memory Allocation) is used. The header file stdlib.h or malloc.h must be included to use the functions.\n",
    "\n",
    "Here is the syntax of malloc and calloc in C/C++:\n",
    "\n",
    "    pointer_name = (cast-type*) malloc(size);\n",
    "    pointer_name = (cast-type*) calloc(num_elems, size_elem);\n",
    "\n",
    "malloc is used to dynamically allocate a single large block of memory\n",
    "\n",
    "calloc is used to dynamically allocate the specified number of blocks of memory of the specified type. "
   ]
  },
  {
   "cell_type": "markdown",
   "metadata": {
    "hidden": true
   },
   "source": [
    "* free can only free memory that was reserved with malloc or calloc.\n",
    "\n",
    "* free can only release memory that has not been released before. Releasing the same block of memory twice will result in an error.\n",
    "\n",
    "* Memory allocated with malloc or calloc is not subject to the familiar rules of variables in their respective scopes. This means that they exist independently of block limits until they are released again or the program is terminated. However, the pointers which refer to such heap-allocated memory are created on the stack and thus only exist within a limited scope. As soon as the scope is left, the pointer variable will be lost - but not the heap memory it refers to.\n",
    "\n",
    "\n"
   ]
  },
  {
   "cell_type": "markdown",
   "metadata": {
    "heading_collapsed": true,
    "hidden": true
   },
   "source": [
    "## Comparing malloc and new"
   ]
  },
  {
   "cell_type": "markdown",
   "metadata": {
    "hidden": true
   },
   "source": [
    "With the introduction of classes and object oriented programming in C++ however, memory allocation and deallocation has become more complex: When an object is created, its constructor needs to be called to allow for member initialization. Also, on object deletion, the destructor is called to free resources and to allow for programmer-defined clean-up tasks. For this reason, C++ introduces the operators new / delete, which represent the object-oriented counterpart to memory management with malloc / free.\n",
    "\n",
    "If we were to create a C++ object with malloc, the constructor and destructor of such an object would not be called."
   ]
  },
  {
   "cell_type": "markdown",
   "metadata": {
    "hidden": true
   },
   "source": [
    "Before we go into further details of new/delete, let us briefly summarize the major differences between malloc/free and new/delete:\n",
    "\n",
    "* Constructors / Destructors Unlike malloc( sizeof(MyClass) ), the call new MyClass() calls the constructor. Similarly, delete calls the destructor.\n",
    "\n",
    "* Type safety malloc returns a void pointer, which needs to be cast into the appropriate data type it points to. This is not type safe, as you can freely vary the pointer type without any warnings or errors from the compiler as in the following small example: MyObject *p = (MyObject*)malloc(sizeof(int));\n",
    "\n",
    "In C++, the call MyObject *p = new MyObject() returns the correct type automatically - it is thus type-safe. "
   ]
  },
  {
   "cell_type": "markdown",
   "metadata": {
    "hidden": true
   },
   "source": [
    "**Operator Overloading** As malloc and free are functions defined in a library, their behavior can not be changed easily. The new and delete operators however can be overloaded by a class in order to include optional proprietary behavior. We will look at an example of overloading new further down in this section"
   ]
  },
  {
   "cell_type": "markdown",
   "metadata": {
    "heading_collapsed": true,
    "hidden": true
   },
   "source": [
    "## New and Delete"
   ]
  },
  {
   "cell_type": "markdown",
   "metadata": {
    "heading_collapsed": true,
    "hidden": true
   },
   "source": [
    "### To Call new\n",
    "1. Memory is allocated to hold a new object of type MyClass\n",
    "2. A new object of type MyClass is constructed within the allocated memory by calling the constructor of MyClass\n"
   ]
  },
  {
   "cell_type": "markdown",
   "metadata": {
    "heading_collapsed": true,
    "hidden": true
   },
   "source": [
    "### To Call delete\n",
    "1. The object of type MyClass is destroyed by calling its destructor\n",
    "2. The memory which the object was palced in is deallocated."
   ]
  },
  {
   "cell_type": "markdown",
   "metadata": {
    "heading_collapsed": true,
    "hidden": true
   },
   "source": [
    "### Optimizing Performance with **Placement new**"
   ]
  },
  {
   "cell_type": "markdown",
   "metadata": {
    "hidden": true
   },
   "source": [
    "In some cases, it makes sense to separate memory allocation from object construction. Consider a case where we need to reconstruct an object several times. If we were to use the standard new/delete construct, memory would be allocated and freed unnecessarily as only the content of the memory block changes but not its size. By separating allocation from construction, we can get a significant performance increase. \n",
    "\n",
    "    void *memory = malloc(sizeof(MyClass));\n",
    "    MyClass *object = new (memory) MyClass;\n",
    "\n"
   ]
  },
  {
   "cell_type": "markdown",
   "metadata": {
    "heading_collapsed": true,
    "hidden": true
   },
   "source": [
    "### Overloading new and delete\n",
    "\n",
    "    05_overloading_new_delete.cpp\n",
    "    "
   ]
  },
  {
   "cell_type": "markdown",
   "metadata": {
    "hidden": true
   },
   "source": [
    "### Overloading new[] and delete[]\n",
    "\n",
    "    05_overload_new_delete_array.cpp\n",
    "    \n",
    "Let us consider the example on the right, which has been slightly modified to allocate an array of objects instead of a single one.\n",
    "\n",
    "Interestingly, the memory requirement is larger than expected: With new, the block size was 4 bytes, which is exactly the space required for a single integer. Thus, with three integers, it should now be 12 bytes instead of 20 bytes. The reason for this is the memory allocation overhead that the compiler needs to keep track of the allocated blocks of memory - which in itself consumes memory. If we change the above call to e.g. new MyClass[100](), we will see that the overhead of 8 bytes does not change: \n",
    "\n",
    "    new: Allocating 408 bytes of memory\n",
    "    Constructor is called\n",
    "    …\n",
    "    Destructor is called\n",
    "    delete: Memory is freed again \n",
    "\n"
   ]
  },
  {
   "cell_type": "markdown",
   "metadata": {
    "hidden": true
   },
   "source": [
    "### Reasons for overloading new and delete\n",
    "\n",
    "Now that we have seen how to overload the new and delete operators, let us summarize the major scenarios where it makes sense to do this:\n",
    "\n",
    "1. The overloaded new operator function allows to add additional parameters. Therefore, a class can have multiple overloaded new operator functions. This gives the programmer more flexibility in customizing the memory allocation for objects.\n",
    "\n",
    "2. Overloaded the new and delete operators provides an easy way to integrate a mechanism similar to garbage collection capabilities (such as in Java), as we will shorty see later in this course.\n",
    "\n",
    "3. By adding exception handling capabilities into new and delete, the code can be made more robust.\n",
    "\n",
    "4. It is very easy to add customized behavior, such as overwriting deallocated memory with zeros in order to increase the security of critical application data.\n",
    "\n"
   ]
  },
  {
   "cell_type": "markdown",
   "metadata": {
    "heading_collapsed": true,
    "hidden": true
   },
   "source": [
    "## Overview of memory management problems\n"
   ]
  },
  {
   "cell_type": "markdown",
   "metadata": {
    "hidden": true
   },
   "source": [
    "\n",
    "1. Memory Leaks Memory leaks occur when data is allocated on the heap at runtime, but not properly deallocated. A program that forgets to clear a memory block is said to have a memory leak - this may be a serious problem or not, depending on the circumstances and on the nature of the program. For a program that runs, computes something, and quits immediately, memory leaks are usually not a big concern. Memory leaks are mostly problematic for programs that run for a long time and/or use large data structures. In such a case, memory leaks can gradually fill the heap until allocation requests can no longer be properly met and the program stops responding or crashes completely. We will look at an example further down in this section.\n",
    "\n",
    "2. Buffer Overruns Buffer overruns occur when memory outside the allocated limits is overwritten and thus corrupted. One of the resulting problems is that this effect may not become immediately visible. When a problem finally does occur, cause and effect are often hard to discern. It is also sometimes possible to inject malicious code into programs in this way, but this shall not be discussed here. \n",
    "\n",
    "\n",
    "    char str[5];\n",
    "    strcpy(str,\"BufferOverrun\");\n",
    "    printf(\"%s\",str);\n",
    "\n",
    "3. Uninitialized Memory Depending on the C++ compiler, data structures are sometimes initialized (most often to zero) and sometimes not. So when allocating memory on the heap without proper initialization, it might sometimes contain garbage that can cause problems.\n",
    "\n",
    "   Generally, a variable will be automatically initialized in these cases:\n",
    "\n",
    "* it is a class instance where the default constructor initializes all primitive types\n",
    "* array initializer syntax is used, such as int a[10] = {}\n",
    "* it is a global or extern variable\n",
    "* it is defined static\n",
    "\n",
    "The behavior of the following code is potentially undefined:\n",
    "\n",
    "    int a;\n",
    "    int b=a*42;\n",
    "    printf(\"%d\",b);"
   ]
  },
  {
   "cell_type": "markdown",
   "metadata": {
    "hidden": true
   },
   "source": [
    "4. Incorrect pairing of allocation and deallocation Freeing a block of memory more than once will cause a program to crash. This can happen when a block of memory is freed that has never been allocated or has been freed before. Such behavior could also occur when improper pairings of allocation and deallocation are used such as using malloc() with delete or new with free().\n",
    "\n",
    "   In this first example, the wrong new and delete are paired\n",
    "\n",
    "\n",
    "    double *pDbl=new double[5];\n",
    "    delete pDbl;\n",
    "\n",
    "   In this second example, the pairing is correct but a double deletion is performed:\n",
    "\n",
    "    char *pChr=new char[5];\n",
    "    delete[] pChr;\n",
    "    delete[] pChr;\n"
   ]
  },
  {
   "cell_type": "markdown",
   "metadata": {
    "hidden": true
   },
   "source": [
    "5. Invalid memory access This error occurs then trying to access a block of heap memory that has not yet or has already been deallocated.\n",
    "\n",
    "   In this example, the heap memory has already been deallocated at the time when strcpy() tries to access it:\n",
    "\n",
    "\n",
    "    char *pStr=new char[25];\n",
    "    delete[] pStr;\n",
    "    strcpy(pStr, \"Invalid Access\");\n"
   ]
  },
  {
   "cell_type": "markdown",
   "metadata": {
    "heading_collapsed": true,
    "hidden": true
   },
   "source": [
    "## Finding memory leaks"
   ]
  },
  {
   "cell_type": "markdown",
   "metadata": {
    "hidden": true
   },
   "source": [
    "Xcode\n",
    "Visual Studio\n",
    "Valgrind -> free. \n",
    "\n",
    "        g++ 06_memory_leaks_debugging.cpp\n",
    "\n",
    "        valgrind --leak-check=full --show-leak-kinds=all --track-origins=yes --log-file=/home/workspace/valgrind-out.txt /home/workspace/a.out\n",
    "\n",
    "        cat valgrind-out.txt\n",
    "\n",
    "\n",
    "Finds the leak in the pointer not deleted.\n",
    "==21928== LEAK SUMMARY:\n",
    "==21928==    definitely lost: 40 bytes in 1 blocks"
   ]
  },
  {
   "cell_type": "markdown",
   "metadata": {
    "heading_collapsed": true
   },
   "source": [
    "# Resource Copying Policies"
   ]
  },
  {
   "cell_type": "markdown",
   "metadata": {
    "heading_collapsed": true,
    "hidden": true
   },
   "source": [
    "## Copy Semantics\n"
   ]
  },
  {
   "cell_type": "markdown",
   "metadata": {
    "heading_collapsed": true,
    "hidden": true
   },
   "source": [
    "### Error Copying a class - does not duplicate memory on the heap. (07_copy_semantics.cpp)"
   ]
  },
  {
   "cell_type": "markdown",
   "metadata": {
    "hidden": true
   },
   "source": [
    "The class MyClass has a private member, which is a pointer to a heap-allocated integer. Allocation is performed in the constructor, deallocation is done in the destructor. This means that the memory block of size sizeof(int) is allocated when the objects myClass1 and myClass2 are created on the stack and deallocated when their scope is left, which happens at the end of the main. The difference between myClass1 and myClass2 is that the latter is instantiated using the copy constructor, which duplicates the members in myClass1 - including the pointer to the heap memory where _myInt resides.\n",
    "\n",
    "The output of the program looks like the following:\n",
    "```\n",
    "Own address on the stack is 0x7ffeefbff670\n",
    "Managing memory block on the heap at 0x100300060\n",
    "Own address on the stack is 0x7ffeefbff658\n",
    "Managing memory block on the heap at 0x100300060\n",
    "copy_constructor_1(87582,0x1000a95c0) malloc: *** error for object 0x100300060: pointer being freed was not allocated\n",
    "```\n",
    "Note that in the workspace, the error will read: \n",
    "```\n",
    "*** Error in './a.out': double free or corruption (fasttop): 0x0000000001133c20 ***\n",
    "```\n",
    "From the output we can see that the stack address is different for myClass1 and myClass2 - as was expected. The address of the managed memory block on the heap however is identical. This means that when the first object goes out of scope, it releases the memory resource by calling free in its destructor. The second object does the same - which causes the program to crash as the pointer is now referencing an invalid area of memory, which has already been freed.\n",
    "\n",
    "\n",
    "* My computer reproduce the double memory on the heap but the executalble does not output an error. Ubuntu 18.04"
   ]
  },
  {
   "cell_type": "markdown",
   "metadata": {
    "hidden": true
   },
   "source": [
    "**Copying Policies**\n",
    "\n",
    "1.    Default copying\n",
    "2.    No copying\n",
    "3.    Exclusive ownership\n",
    "4.    Deep copying\n",
    "5.    Shared ownership\n"
   ]
  },
  {
   "cell_type": "markdown",
   "metadata": {
    "heading_collapsed": true,
    "hidden": true
   },
   "source": [
    "### Copying ownership policy\n",
    "\n"
   ]
  },
  {
   "cell_type": "markdown",
   "metadata": {
    "hidden": true
   },
   "source": [
    "The copying process must be closely linked to the respective resource release mechanism and is often referred to as copy-ownership policy. Tailoring the copy constructor according to your memory management policy is an important choice you often need to make when designing a class. In the following, we will closely examine several well-known copy-ownership policies."
   ]
  },
  {
   "cell_type": "markdown",
   "metadata": {
    "heading_collapsed": true,
    "hidden": true
   },
   "source": [
    "### No copying policy (07_no_copy.cpp)"
   ]
  },
  {
   "cell_type": "markdown",
   "metadata": {
    "hidden": true
   },
   "source": [
    "The simplest policy of all is to forbid copying and assigning class instances all together. This can be achieved by declaring, but not defining a private copy constructor and assignment operator (NoCopyClass1). or making both public and assigning the delete operator (NoCopyClass2).\n",
    "\n",
    "```\n",
    "error: calling a private constructor of class 'NoCopyClass1'\n",
    "    NoCopyClass1 copy1(original1);\n",
    "    NoCopyClass1 copy1b = original1; \n",
    "\n",
    "error: call to deleted constructor of 'NoCopyClass2'\n",
    "    NoCopyClass2 copy2(original2);\n",
    "    NoCopyClass2 copy2b = original2;\n",
    "``` \n",
    "\n",
    "Both cases effectively prevent the original object from being copied or assigned. In the C++11 standard library, there are some classes for multi-threaded synchronization which use the no copying policy."
   ]
  },
  {
   "cell_type": "markdown",
   "metadata": {
    "heading_collapsed": true,
    "hidden": true
   },
   "source": [
    "### Exclusive ownership policy (07_exclusive_ownership.cpp)"
   ]
  },
  {
   "cell_type": "markdown",
   "metadata": {
    "hidden": true
   },
   "source": [
    "This policy states that whenever a resource management object is copied, the resource handle is transferred from the source pointer to the destination pointer. In the process, the source pointer is set to nullptr to make ownership exclusive. At any time, the resource handle belongs only to a single object, which is responsible for its deletion when it is no longer needed. \n",
    "\n",
    "* It is necessary to overload both, the copy constructor and the copy assigment operator.\n"
   ]
  },
  {
   "cell_type": "markdown",
   "metadata": {
    "hidden": true
   },
   "source": [
    "As can be seen, only a single resource is allocated and freed. So by passing handles and invalidating them, we can implement a basic version of an exclusive ownership policy. However, this example is not the way exclusive ownership is handled in the standard template library. One problem in this implementation is that for a short time there are effectively two valid handles to the same resource - after the handle has been copied and before it is set to nullptr. **In concurrent programs, this would cause a data race for the resource**. A much better alternative to handle exclusive ownership in C++ would be to use ```move semantics```, which we will discuss shortly in a very detailed lesson. "
   ]
  },
  {
   "cell_type": "markdown",
   "metadata": {
    "heading_collapsed": true,
    "hidden": true
   },
   "source": [
    "### Deep copying policy (07_deep_copy.cpp)"
   ]
  },
  {
   "cell_type": "markdown",
   "metadata": {
    "hidden": true
   },
   "source": [
    "With this policy, copying and assigning class instances to each other is possible without the danger of resource conflicts. The idea is to allocate proprietary memory in the destination object and then to copy the content to which the source object handle is pointing into the newly allocated block of memory. This way, the content is preserved during copy or assignment. However, this approach increases the memory demands and the uniqueness of the data is lost: After the deep copy has been made, two versions of the same resource exist in memory.\n",
    "\n",
    "The deep-copy version of MyClass looks similar to the exclusive ownership policy: Both the assignment operator and the copy constructor have been overloaded with the source object passed by reference. But instead of copying the source handle (and then deleting it), a proprietary block of memory is allocated on the heap and the content of the source is copied into it. \n",
    "\n",
    "```\n",
    "resource allocated at address 0x100300060\n",
    "resource allocated at address 0x100300070 with _myInt = 42\n",
    "resource allocated at address 0x100300080 with _myInt = 42\n",
    "resource freed at address 0x100300080\n",
    "resource freed at address 0x100300070\n",
    "resource freed at address 0x100300060\n",
    "```"
   ]
  },
  {
   "cell_type": "markdown",
   "metadata": {
    "heading_collapsed": true,
    "hidden": true
   },
   "source": [
    "### Shared ownership policy (07_shared_ownership.cpp)"
   ]
  },
  {
   "cell_type": "markdown",
   "metadata": {
    "hidden": true
   },
   "source": [
    "The last ownership policy we will be discussing in this course implements a shared ownership behavior. The idea is to perform a copy or assignment similar to the default behavior, i.e. **copying the handle instead of the content** (as with a shallow copy) while at the same time **keeping track of the number of instances that also point to the same resource**. Each time an instance goes out of scope, the counter is decremented. Once the last object is about to be deleted, it can safely deallocate the memory resource. We will see later in this course that this is the central idea of unique_ptr, which is a representative of the group of smart pointers."
   ]
  },
  {
   "cell_type": "markdown",
   "metadata": {
    "heading_collapsed": true,
    "hidden": true
   },
   "source": [
    "### Rule of three"
   ]
  },
  {
   "cell_type": "markdown",
   "metadata": {
    "hidden": true
   },
   "source": [
    "Rule of Three states that if a class needs to have an overloaded copy constructor, copy assignment operator, ~or~ destructor, then it must also implement the other two as well to ensure that memory is managed consistently."
   ]
  },
  {
   "cell_type": "markdown",
   "metadata": {
    "heading_collapsed": true,
    "hidden": true
   },
   "source": [
    "## Lvalues and Rvalues "
   ]
  },
  {
   "cell_type": "markdown",
   "metadata": {
    "heading_collapsed": true,
    "hidden": true
   },
   "source": [
    "### Value categories "
   ]
  },
  {
   "cell_type": "markdown",
   "metadata": {
    "hidden": true
   },
   "source": [
    "A good grasp of lvalues and rvalues in C++ is essential for understanding the more advanced concepts of rvalue references and motion semantics.\n",
    "\n",
    "Let us start by stating that every expression in C++ has a type and belongs to a value category. **When objects are created, copied or moved during the evaluation of an expression, the compiler uses these value expressions to decide which method to call or which operator to use**. "
   ]
  },
  {
   "cell_type": "markdown",
   "metadata": {
    "hidden": true
   },
   "source": [
    "<img width=\"400\" src=\"figs/valuecategories.png\">\n",
    "\n",
    "** Figure 1: Value categories **"
   ]
  },
  {
   "cell_type": "markdown",
   "metadata": {
    "hidden": true
   },
   "source": [
    "* **Lvalues** have an address that can be accessed. They are expressions whose evaluation by the compiler determines the identity of objects or functions.\n",
    "\n",
    "* **Prvalues** do not have an address that is accessible directly. They are temporary expressions used to initialize objects or compute the value of the operand of an operator.\n",
    "\n",
    "*For the sake of simplicity and for compliance with many tutorials, videos and books about the topic, let us ***refer to prvalues as rvalues*** from here on.\n",
    "\n",
    "\n",
    "The two characters l and r are originally derived from the perspective of the assignment operator =, which always expects a rvalue on the right, and which it assigns to a lvalue on the left. In this case, the l stands for left and r for right:\n",
    "\n",
    "```int i = 42;  // lvalue = rvalue;```"
   ]
  },
  {
   "cell_type": "markdown",
   "metadata": {
    "hidden": true
   },
   "source": [
    "* With many other operators, however, this right-left view is not entirely correct. In more general terms, an **lvalue is an entity that points to a specific memory location**. \n",
    "* An rvalue is usually a short-lived object, which is only needed in a narrow local scope. To simplify things a little, one could think of **lvalues as named containers for rvalues**. "
   ]
  },
  {
   "cell_type": "markdown",
   "metadata": {
    "hidden": true
   },
   "source": [
    "Using the address operator & we can generate an lvalue from an rvalue and assign it to another lvalue:\n",
    "\n",
    "```int *j = &i;```\n",
    "\n",
    "In this small example, the expression &i generates the address of i as an rvalue and assigns it to j, which is an lvalue now holding the memory location of i.\n",
    "\n",
    "```08_l_and_r_value_examples.cpp ```"
   ]
  },
  {
   "cell_type": "markdown",
   "metadata": {
    "heading_collapsed": true,
    "hidden": true
   },
   "source": [
    "### Lvalue references (08_l_value_references.cpp)"
   ]
  },
  {
   "cell_type": "markdown",
   "metadata": {
    "hidden": true
   },
   "source": [
    "An lvalue reference can be considered as an alternative name for an object. It is a reference that binds to an lvalue and is declared using an optional list of specifiers (which we will not further discuss here) followed by the reference declarator &. The short code sample on the right declares an integer i and a reference j which can be used as an alias for the existing object.\n",
    "\n",
    "```i = 3, j = 3```\n",
    "\n",
    "We can see that the lvalue reference j can be used just as i can. A change to either i or j will affect the same memory location on the stack."
   ]
  },
  {
   "cell_type": "markdown",
   "metadata": {
    "heading_collapsed": true,
    "hidden": true
   },
   "source": [
    "### l_value_references_2.cpp\n",
    "\n",
    "One of the **primary use-cases for lvalue references is the pass-by-reference semantics** in function calls as in the example on the right.\n",
    "\n",
    "The function myFunction has an lvalue reference as a parameter, which establishes an alias to the integer i which is passed to it in main.\n"
   ]
  },
  {
   "cell_type": "markdown",
   "metadata": {
    "heading_collapsed": true,
    "hidden": true
   },
   "source": [
    "### Rvalues references "
   ]
  },
  {
   "cell_type": "markdown",
   "metadata": {
    "hidden": true
   },
   "source": [
    "You already know that an rvalue is a temporary expression which is - among other use-cases, a means of initializing objects. In the call int i = 42, 42 is the \n",
    "rvalue.\n",
    "\n",
    "Let us consider an example similar to the last one, shown on the right.\n",
    "\n",
    "As before, the function myFunction takes an lvalue reference as its argument. In main, the call myFunction(j) works just fine while myFunction(42) as well as myFunction(j+k) produces the following compiler error on Mac:\n",
    "\n",
    "```candidate function not viable: expects an l-value for 1st argument```\n",
    "\n",
    "and the following error in the workspace with g++:\n",
    "\n",
    "```error: cannot bind non-const lvalue reference of type ‘int&’ to an rvalue of type ‘int’```\n",
    "\n",
    "While the number 42 is obviously an rvalue, with j+k things might not be so obvious, as j and k are variables and thus lvalues. To compute the result of the addition, the compiler has to create a temporary object to place it in - and this object is an rvalue. \n"
   ]
  },
  {
   "cell_type": "markdown",
   "metadata": {
    "heading_collapsed": true,
    "hidden": true
   },
   "source": [
    "### rvalues: int &&l -> r_value_references_2.cpp\n",
    "\n",
    "\n"
   ]
  },
  {
   "cell_type": "markdown",
   "metadata": {
    "hidden": true
   },
   "source": [
    "Since C++11, there is a new type available called rvalue reference, which can be identified from the double ampersand && after a type name. With this operator, it is possible to store and even modify an rvalue, i.e. a temporary object which would otherwise be lost quickly.\n",
    "\n",
    "But what do we need this for? Before we look into the answer to this question, let us consider the example on the right."
   ]
  },
  {
   "cell_type": "markdown",
   "metadata": {
    "hidden": true
   },
   "source": [
    "After creating the integers i and j on the stack, the sum of both is added to a third integer k. Let us examine this simple example a little more closely. In the first and second assignment, i and j are created as lvalues, while 1 and 2 are rvalues, whose value is copied into the memory location of i and j. Then, a third lvalue, k, is created. The sum i+j is created as an rvalue, which holds the result of the addition before being copied into the memory location of k. This is quite a lot of copying and holding of temporary values in memory. With an rvalue reference, this can be done more efficiently.\n",
    "\n",
    "The expression int &&l creates an rvalue reference, to which the address of the temporary object is assigned, that holds the result of the addition. So instead of first creating the rvalue i+j , then copying it and finally deleting it, we can now hold the temporary object in memory. This is much more efficient than the first approach, even though saving a few bytes of storage in the example might not seem like much at first glance. One of the most important aspects of rvalue references is that they pave the way for move semantics, which is a mighty technique in modern C++ to optimize memory usage and processing speed. Move semantics and rvalue references make it possible to write code that transfers resources such as dynamically allocated memory from one object to another in a very efficient manner and also supports the concept of exclusive ownership, as we will shortly see when discussing smart pointers. In the next section we will take a close look at move semantics and its benefits for memory management.\n"
   ]
  },
  {
   "cell_type": "markdown",
   "metadata": {
    "heading_collapsed": true,
    "hidden": true
   },
   "source": [
    "## Move Semantics"
   ]
  },
  {
   "cell_type": "code",
   "execution_count": null,
   "metadata": {
    "hidden": true
   },
   "outputs": [],
   "source": []
  }
 ],
 "metadata": {
  "kernelspec": {
   "display_name": "Python 3",
   "language": "python",
   "name": "python3"
  },
  "language_info": {
   "codemirror_mode": {
    "name": "ipython",
    "version": 3
   },
   "file_extension": ".py",
   "mimetype": "text/x-python",
   "name": "python",
   "nbconvert_exporter": "python",
   "pygments_lexer": "ipython3",
   "version": "3.6.6"
  }
 },
 "nbformat": 4,
 "nbformat_minor": 2
}
