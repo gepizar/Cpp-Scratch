{
 "cells": [
  {
   "cell_type": "markdown",
   "metadata": {
    "heading_collapsed": true
   },
   "source": [
    "# Memory Types"
   ]
  },
  {
   "cell_type": "markdown",
   "metadata": {
    "heading_collapsed": true,
    "hidden": true
   },
   "source": [
    "## Variables and Memory"
   ]
  },
  {
   "cell_type": "markdown",
   "metadata": {
    "hidden": true
   },
   "source": [
    "Notes taken from Udacity Cpp Nanodregree"
   ]
  },
  {
   "cell_type": "markdown",
   "metadata": {
    "hidden": true
   },
   "source": [
    "<img width=\"400\" src=\"figs/virtualmemory.png\">\n",
    "\n",
    "** Figure 1: Virtual Memory **"
   ]
  },
  {
   "cell_type": "markdown",
   "metadata": {
    "hidden": true
   },
   "source": [
    "\n",
    "\n",
    "* The **stack** is a contiguous memory block with a fixed maximum size. If a program exceeds this size, it will crash. The stack is used for storing automatically allocated variables such as local variables or function parameters. If there are multiple threads in a program, then each thread has its own stack memory. New memory on the stack is allocated when the path of execution enters a scope and freed again once the scope is left. It is important to know that the stack is managed \"automatically\" by the compiler, which means we do not have to concern ourselves with allocation and deallocation.\n",
    "\n",
    "* The **heap** (also called \"free store\" in C++) is where data with dynamic storage lives. It is shared among multiple threads in a program, which means that memory management for the heap needs to take concurrency into account. This makes memory allocations in the heap more complicated than stack allocations. In general, managing memory on the heap is more (computationally) expensive for the operating system, which makes it slower than stack memory. Contrary to the stack, the heap is not managed automatically by the system, but by the programmer. If memory is allocated on the heap, it is the programmer’s responsibility to free it again when it is no longer needed. If the programmer manages the heap poorly or not at all, there will be trouble.\n",
    "\n",
    "* The **BSS** (Block Started by Symbol) segment is used in many compilers and linkers for a segment that contains global and static variables that are initialized with zero values. This memory area is suitable, for example, for arrays that are not initialized with predefined values.\n",
    "\n",
    "* The **Data segment** serves the same purpose as the BSS segment with the major difference being that variables in the Data segment have been initialized with a value other than zero. Memory for variables in the Data segment (and in BSS) is allocated once when a program is run and persists throughout its lifetime.\n"
   ]
  },
  {
   "cell_type": "markdown",
   "metadata": {
    "heading_collapsed": true,
    "hidden": true
   },
   "source": [
    "### Memory allocation"
   ]
  },
  {
   "cell_type": "markdown",
   "metadata": {
    "hidden": true
   },
   "source": [
    "* **Static memory allocation** is performed for static and global variables, which are stored in the BSS and Data segment. Memory for these types of variables is allocated once when your program is run and persists throughout the life of your program.\n",
    "\n",
    "* **Automatic memory allocation** is performed for function parameters as well as local variables, which are stored on the stack. Memory for these types of variables is allocated when the path of execution enters a scope and freed again once the scope is left.\n",
    "\n",
    "* **Dynamic memory allocation** is a possibility for programs to request memory from the operating system at runtime when needed. This is the major difference to automatic and static allocation, where the size of the variable must be known at compile time. Dynamic memory allocation is not performed on the limited stack but on the heap and is thus (almost) only limited by the size of the address space.\n"
   ]
  },
  {
   "cell_type": "markdown",
   "metadata": {
    "heading_collapsed": true,
    "hidden": true
   },
   "source": [
    "## Properties of Stack Memory"
   ]
  },
  {
   "cell_type": "markdown",
   "metadata": {
    "hidden": true
   },
   "source": [
    "* The stack is a **contiguous block of memory**. It will not become fragmented (as opposed to the heap) and it has a fixed maximum size.\n",
    "\n",
    "* When the **maximum size of the stack** memory is exceeded, a program will crash.\n",
    "\n",
    "* Allocating and deallocating **memory is fast** on the stack. It only involves moving the stack pointer to a new position.\n",
    "\n",
    "* When using **multiple threads** (as in concurrent programming), it is important to know that **each thread has its own stack memory** - which can be considered thread-safe. \n"
   ]
  },
  {
   "cell_type": "markdown",
   "metadata": {
    "heading_collapsed": true,
    "hidden": true
   },
   "source": [
    "### Example 01 Stack Growth and Contraction"
   ]
  },
  {
   "cell_type": "markdown",
   "metadata": {
    "hidden": true
   },
   "source": [
    "In this example we can see that memory is contigouos for i = 1, 2, 4. But for function \"MyFunc()\"  it uses a part of the memory that is before the main() declaration\n",
    "\n",
    "```\n",
    "1: 0x7fff20c3f53c \n",
    "2: 0x7fff20c3f540 \n",
    "3: 0x7fff20c3f514 -> MyFunc()\n",
    "4: 0x7fff20c3f544 \n",
    "``` \n",
    "\n",
    "Between 2 and 3, the address pointer is moved by 0x28.\n",
    "MyFunc, the compiler needs to store additional data such as the return address. \n"
   ]
  },
  {
   "cell_type": "markdown",
   "metadata": {
    "hidden": true
   },
   "source": [
    "<img width=\"400\" src=\"figs/growthandcontracts.png\">\n",
    "\n",
    "** Figure 1: Stack Growth and Contracts **"
   ]
  },
  {
   "cell_type": "markdown",
   "metadata": {
    "hidden": true
   },
   "source": [
    "When a thread is created, stack memory is allocated by the operating system as a contiguous block. With each new function call or local variable allocation, the stack pointer is moved until eventually it will reach the bottom of said memory block. Once it exceeds this limit (which is called \"stack overflow\"), the program will crash. We will try to find out the limit of your computer’s stack memory in the following exercise."
   ]
  },
  {
   "cell_type": "markdown",
   "metadata": {
    "heading_collapsed": true,
    "hidden": true
   },
   "source": [
    "### Pointers vs. References"
   ]
  },
  {
   "cell_type": "markdown",
   "metadata": {
    "hidden": true
   },
   "source": [
    "\n",
    "As we have seen in the examples above, the use of pointers and references to directly manipulate function arguments in a memory-effective way is very similar. Let us compare the two methods in the code on the right.\n",
    "\n",
    "As can be seen, pointer and reference are both implemented by using a memory address. In the case of AddFour the caller does not even realize that val might be modified while with AddSix, the reference to val has to be explicitly written by using &.\n",
    "\n",
    "If passing by value needs to be avoided, both pointers and references are a way to achieve this. The following selection of properties contrasts the two methods so it will be easier to decide which to use from the perspective of the use-case at hand:\n",
    "\n",
    "* Pointers can be declared without initialization. This means we can pass an uninitialized pointer to a function who then internally performs the initialization for us.\n",
    "\n",
    "* Pointers can be reassigned to another memory block on the heap.\n",
    "\n",
    "* References are usually easier to use (depending on the expertise level of the programmer). Sometimes however, if a third-party function is used without properly looking at the parameter definition, it might go unnoticed that a value has been modified.\n",
    "\n"
   ]
  },
  {
   "cell_type": "markdown",
   "metadata": {
    "hidden": true
   },
   "source": [
    "Now, we will compare the three strategies we have seen so far with regard to stack memory usage. Consider the code on the right.\n",
    "\n",
    "After creating a local variable i in main to give us the address of the stack bottom, we are passing i by-value to our first function. Inside CallByValue, the memory address of a local variable j is printed to the console, which serves as a marker for the stack pointer. With the second function call in main, we are passing a reference to i to CallByPointer. Lastly, the function CallByReference is called in main, which again takes the integer i as an argument. However, from looking at main alone, we can not tell wether i will be passed by value or by reference.\n",
    "\n",
    "On my machine, when compiled with g++ (Apple clang version 11.0.0), the program produces the following output:\n",
    "\n",
    "    stack bottom: 0x7ffeefbff698\n",
    "    call-by-value: 0x7ffeefbff678\n",
    "    call-by-pointer: 0x7ffeefbff674\n",
    "    call-by-reference: 0x7ffeefbff674\n",
    "\n",
    "Depending on your system, the compiler you use and the compiler optimization techniques, you man not always see this result. In some cases\n",
    "\n",
    "Let us take a look at the respective differences to the stack bottom in turn:\n",
    "\n",
    "* CallByValue requires 32 bytes of memory. As discussed before, this is reserved for e.g. the function return address and for the local variables within the function (including the copy of i).\n",
    "\n",
    "* CallByPointer on the other hand requires - perhaps surprisingly - 36 bytes of memory. Let us complete the examination before going into more details on this result.\n",
    "\n",
    "Let us take a look at the size of the various parameter types using the sizeof command:\n",
    "\n",
    "    printf(\"size of int: %lu\\n\", sizeof(int));\n",
    "    printf(\"size of *int: %lu\\n\", sizeof(int *));\n",
    "\n",
    "The output here is\n",
    "\n",
    "    size of int: 4\n",
    "    size of *int: 8\n",
    "\n",
    "Obviously, the size of the pointer variable is larger than the actual data type. As my machine has a 64 bit architecture, an address requires 8 byte.\n",
    "\n",
    "As an experiment, you could use the -m32 compiler flag to build a 32 bit version of the program. This yields the following output:\n",
    "\n",
    "    size of int: 4\n",
    "    size of *int: 4\n",
    "\n",
    "In order to benefit from call-by-reference, the size of the data type \n"
   ]
  },
  {
   "cell_type": "markdown",
   "metadata": {
    "heading_collapsed": true
   },
   "source": [
    "# Dynamic Memory Allocation"
   ]
  },
  {
   "cell_type": "markdown",
   "metadata": {
    "heading_collapsed": true,
    "hidden": true
   },
   "source": [
    "## Heap"
   ]
  },
  {
   "cell_type": "markdown",
   "metadata": {
    "hidden": true
   },
   "source": [
    "Let us take a look at some properties of heap memory:\n",
    "\n",
    "* As opposed to local variables on the stack, memory can now be allocated in an arbitrary scope (e.g. inside a function) without it being deleted when the scope is left. Thus, as long as the address to an allocated block of memory is returned by a function, the caller can freely use it.\n",
    "\n",
    "* Local variables on the stack are allocated at compile-time. Thus, the size of e.g. a string variable might not be appropriate as the length of the string will not be known until the program is executed and the user inputs it. With local variables, a solution would be to allocate a long-enough array of and hope that the actual length does not exceed the buffer size. With dynamically allocated heap memory, variables are allocated at run-time. This means that the size of the above-mentioned string variable can be tailored to the actual length of the user input.\n",
    "\n",
    "* Heap memory is only constrained by the size of the address space and by the available memory. With modern 64 bit operating systems and large RAM memory and hard disks the programmer commands a vast amount of memory. However, if the programmer forgets to deallocate a block of heap memory, it will remain unused until the program is terminated. This is called a \"memory leak\".\n",
    "\n",
    "* Unlike the stack, the heap is shared among multiple threads, which means that memory management for the heap needs to take concurrency into account as several threads might compete for the same memory resource.\n",
    "\n",
    "* When memory is allocated or deallocated on the stack, the stack pointer is simply shifted upwards or downwards. Due to the sequential structure of stack memory management, stack memory can be managed (by the operating system) easily and securely. With heap memory, allocation and deallocation can occur arbitrarily, depending on the lifetime of the variables. This can result in fragmented memory over time, which is much more difficult and expensive to manage.\n"
   ]
  },
  {
   "cell_type": "markdown",
   "metadata": {
    "heading_collapsed": true,
    "hidden": true
   },
   "source": [
    "### Memory Fragmentation\n"
   ]
  },
  {
   "cell_type": "markdown",
   "metadata": {
    "hidden": true
   },
   "source": [
    "\n",
    "A classic symptom of memory fragmentation is that you try to allocate a large block and you can’t, even though you appear to have enough memory free. On systems with virtual memory however, this is less of a problem, because large allocations only need to be contiguous in virtual address space, not in physical address space.\n",
    "\n",
    "    C   : malloc and free\n",
    "    C++ : new and delete "
   ]
  },
  {
   "cell_type": "markdown",
   "metadata": {
    "heading_collapsed": true,
    "hidden": true
   },
   "source": [
    "### Allocating Dynamic Memory"
   ]
  },
  {
   "cell_type": "markdown",
   "metadata": {
    "hidden": true
   },
   "source": [
    "To reserve memory on the heap, one of the two functions malloc (stands for Memory Allocation) or calloc (stands for Cleared Memory Allocation) is used. The header file stdlib.h or malloc.h must be included to use the functions.\n",
    "\n",
    "Here is the syntax of malloc and calloc in C/C++:\n",
    "\n",
    "    pointer_name = (cast-type*) malloc(size);\n",
    "    pointer_name = (cast-type*) calloc(num_elems, size_elem);\n",
    "\n",
    "malloc is used to dynamically allocate a single large block of memory\n",
    "\n",
    "calloc is used to dynamically allocate the specified number of blocks of memory of the specified type. "
   ]
  },
  {
   "cell_type": "markdown",
   "metadata": {
    "hidden": true
   },
   "source": [
    "* free can only free memory that was reserved with malloc or calloc.\n",
    "\n",
    "* free can only release memory that has not been released before. Releasing the same block of memory twice will result in an error.\n",
    "\n",
    "* Memory allocated with malloc or calloc is not subject to the familiar rules of variables in their respective scopes. This means that they exist independently of block limits until they are released again or the program is terminated. However, the pointers which refer to such heap-allocated memory are created on the stack and thus only exist within a limited scope. As soon as the scope is left, the pointer variable will be lost - but not the heap memory it refers to.\n",
    "\n",
    "\n"
   ]
  },
  {
   "cell_type": "markdown",
   "metadata": {
    "heading_collapsed": true,
    "hidden": true
   },
   "source": [
    "## Comparing malloc and new"
   ]
  },
  {
   "cell_type": "markdown",
   "metadata": {
    "hidden": true
   },
   "source": [
    "With the introduction of classes and object oriented programming in C++ however, memory allocation and deallocation has become more complex: When an object is created, its constructor needs to be called to allow for member initialization. Also, on object deletion, the destructor is called to free resources and to allow for programmer-defined clean-up tasks. For this reason, C++ introduces the operators new / delete, which represent the object-oriented counterpart to memory management with malloc / free.\n",
    "\n",
    "If we were to create a C++ object with malloc, the constructor and destructor of such an object would not be called."
   ]
  },
  {
   "cell_type": "markdown",
   "metadata": {
    "hidden": true
   },
   "source": [
    "Before we go into further details of new/delete, let us briefly summarize the major differences between malloc/free and new/delete:\n",
    "\n",
    "* Constructors / Destructors Unlike malloc( sizeof(MyClass) ), the call new MyClass() calls the constructor. Similarly, delete calls the destructor.\n",
    "\n",
    "* Type safety malloc returns a void pointer, which needs to be cast into the appropriate data type it points to. This is not type safe, as you can freely vary the pointer type without any warnings or errors from the compiler as in the following small example: MyObject *p = (MyObject*)malloc(sizeof(int));\n",
    "\n",
    "In C++, the call MyObject *p = new MyObject() returns the correct type automatically - it is thus type-safe. "
   ]
  },
  {
   "cell_type": "markdown",
   "metadata": {
    "hidden": true
   },
   "source": [
    "**Operator Overloading** As malloc and free are functions defined in a library, their behavior can not be changed easily. The new and delete operators however can be overloaded by a class in order to include optional proprietary behavior. We will look at an example of overloading new further down in this section"
   ]
  },
  {
   "cell_type": "markdown",
   "metadata": {
    "heading_collapsed": true,
    "hidden": true
   },
   "source": [
    "## New and Delete"
   ]
  },
  {
   "cell_type": "markdown",
   "metadata": {
    "heading_collapsed": true,
    "hidden": true
   },
   "source": [
    "### To Call new\n",
    "1. Memory is allocated to hold a new object of type MyClass\n",
    "2. A new object of type MyClass is constructed within the allocated memory by calling the constructor of MyClass\n"
   ]
  },
  {
   "cell_type": "markdown",
   "metadata": {
    "heading_collapsed": true,
    "hidden": true
   },
   "source": [
    "### To Call delete\n",
    "1. The object of type MyClass is destroyed by calling its destructor\n",
    "2. The memory which the object was palced in is deallocated."
   ]
  },
  {
   "cell_type": "markdown",
   "metadata": {
    "heading_collapsed": true,
    "hidden": true
   },
   "source": [
    "### Optimizing Performance with **Placement new**"
   ]
  },
  {
   "cell_type": "markdown",
   "metadata": {
    "hidden": true
   },
   "source": [
    "In some cases, it makes sense to separate memory allocation from object construction. Consider a case where we need to reconstruct an object several times. If we were to use the standard new/delete construct, memory would be allocated and freed unnecessarily as only the content of the memory block changes but not its size. By separating allocation from construction, we can get a significant performance increase. \n",
    "\n",
    "    void *memory = malloc(sizeof(MyClass));\n",
    "    MyClass *object = new (memory) MyClass;\n",
    "\n"
   ]
  },
  {
   "cell_type": "markdown",
   "metadata": {
    "heading_collapsed": true,
    "hidden": true
   },
   "source": [
    "### Overloading new and delete\n",
    "\n",
    "    05_overloading_new_delete.cpp\n",
    "    "
   ]
  },
  {
   "cell_type": "markdown",
   "metadata": {
    "hidden": true
   },
   "source": [
    "### Overloading new[] and delete[]\n",
    "\n",
    "    05_overload_new_delete_array.cpp\n",
    "    \n",
    "Let us consider the example on the right, which has been slightly modified to allocate an array of objects instead of a single one.\n",
    "\n",
    "Interestingly, the memory requirement is larger than expected: With new, the block size was 4 bytes, which is exactly the space required for a single integer. Thus, with three integers, it should now be 12 bytes instead of 20 bytes. The reason for this is the memory allocation overhead that the compiler needs to keep track of the allocated blocks of memory - which in itself consumes memory. If we change the above call to e.g. new MyClass[100](), we will see that the overhead of 8 bytes does not change: \n",
    "\n",
    "    new: Allocating 408 bytes of memory\n",
    "    Constructor is called\n",
    "    …\n",
    "    Destructor is called\n",
    "    delete: Memory is freed again \n",
    "\n"
   ]
  },
  {
   "cell_type": "markdown",
   "metadata": {
    "hidden": true
   },
   "source": [
    "### Reasons for overloading new and delete\n",
    "\n",
    "Now that we have seen how to overload the new and delete operators, let us summarize the major scenarios where it makes sense to do this:\n",
    "\n",
    "1. The overloaded new operator function allows to add additional parameters. Therefore, a class can have multiple overloaded new operator functions. This gives the programmer more flexibility in customizing the memory allocation for objects.\n",
    "\n",
    "2. Overloaded the new and delete operators provides an easy way to integrate a mechanism similar to garbage collection capabilities (such as in Java), as we will shorty see later in this course.\n",
    "\n",
    "3. By adding exception handling capabilities into new and delete, the code can be made more robust.\n",
    "\n",
    "4. It is very easy to add customized behavior, such as overwriting deallocated memory with zeros in order to increase the security of critical application data.\n",
    "\n"
   ]
  },
  {
   "cell_type": "markdown",
   "metadata": {
    "heading_collapsed": true,
    "hidden": true
   },
   "source": [
    "## Overview of memory management problems\n"
   ]
  },
  {
   "cell_type": "markdown",
   "metadata": {
    "hidden": true
   },
   "source": [
    "\n",
    "1. Memory Leaks Memory leaks occur when data is allocated on the heap at runtime, but not properly deallocated. A program that forgets to clear a memory block is said to have a memory leak - this may be a serious problem or not, depending on the circumstances and on the nature of the program. For a program that runs, computes something, and quits immediately, memory leaks are usually not a big concern. Memory leaks are mostly problematic for programs that run for a long time and/or use large data structures. In such a case, memory leaks can gradually fill the heap until allocation requests can no longer be properly met and the program stops responding or crashes completely. We will look at an example further down in this section.\n",
    "\n",
    "2. Buffer Overruns Buffer overruns occur when memory outside the allocated limits is overwritten and thus corrupted. One of the resulting problems is that this effect may not become immediately visible. When a problem finally does occur, cause and effect are often hard to discern. It is also sometimes possible to inject malicious code into programs in this way, but this shall not be discussed here. \n",
    "\n",
    "\n",
    "    char str[5];\n",
    "    strcpy(str,\"BufferOverrun\");\n",
    "    printf(\"%s\",str);\n",
    "\n",
    "3. Uninitialized Memory Depending on the C++ compiler, data structures are sometimes initialized (most often to zero) and sometimes not. So when allocating memory on the heap without proper initialization, it might sometimes contain garbage that can cause problems.\n",
    "\n",
    "   Generally, a variable will be automatically initialized in these cases:\n",
    "\n",
    "* it is a class instance where the default constructor initializes all primitive types\n",
    "* array initializer syntax is used, such as int a[10] = {}\n",
    "* it is a global or extern variable\n",
    "* it is defined static\n",
    "\n",
    "The behavior of the following code is potentially undefined:\n",
    "\n",
    "    int a;\n",
    "    int b=a*42;\n",
    "    printf(\"%d\",b);"
   ]
  },
  {
   "cell_type": "markdown",
   "metadata": {
    "hidden": true
   },
   "source": [
    "4. Incorrect pairing of allocation and deallocation Freeing a block of memory more than once will cause a program to crash. This can happen when a block of memory is freed that has never been allocated or has been freed before. Such behavior could also occur when improper pairings of allocation and deallocation are used such as using malloc() with delete or new with free().\n",
    "\n",
    "   In this first example, the wrong new and delete are paired\n",
    "\n",
    "\n",
    "    double *pDbl=new double[5];\n",
    "    delete pDbl;\n",
    "\n",
    "   In this second example, the pairing is correct but a double deletion is performed:\n",
    "\n",
    "    char *pChr=new char[5];\n",
    "    delete[] pChr;\n",
    "    delete[] pChr;\n"
   ]
  },
  {
   "cell_type": "markdown",
   "metadata": {
    "hidden": true
   },
   "source": [
    "5. Invalid memory access This error occurs then trying to access a block of heap memory that has not yet or has already been deallocated.\n",
    "\n",
    "   In this example, the heap memory has already been deallocated at the time when strcpy() tries to access it:\n",
    "\n",
    "\n",
    "    char *pStr=new char[25];\n",
    "    delete[] pStr;\n",
    "    strcpy(pStr, \"Invalid Access\");\n"
   ]
  },
  {
   "cell_type": "markdown",
   "metadata": {
    "heading_collapsed": true,
    "hidden": true
   },
   "source": [
    "## Finding memory leaks"
   ]
  },
  {
   "cell_type": "markdown",
   "metadata": {
    "hidden": true
   },
   "source": [
    "Xcode\n",
    "Visual Studio\n",
    "Valgrind -> free. \n",
    "\n",
    "        g++ 06_memory_leaks_debugging.cpp\n",
    "\n",
    "        valgrind --leak-check=full --show-leak-kinds=all --track-origins=yes --log-file=/home/workspace/valgrind-out.txt /home/workspace/a.out\n",
    "\n",
    "        cat valgrind-out.txt\n",
    "\n",
    "\n",
    "Finds the leak in the pointer not deleted.\n",
    "==21928== LEAK SUMMARY:\n",
    "==21928==    definitely lost: 40 bytes in 1 blocks"
   ]
  },
  {
   "cell_type": "markdown",
   "metadata": {
    "heading_collapsed": true
   },
   "source": [
    "# Resource Copying Policies"
   ]
  },
  {
   "cell_type": "markdown",
   "metadata": {
    "heading_collapsed": true,
    "hidden": true
   },
   "source": [
    "## Copy Semantics\n"
   ]
  },
  {
   "cell_type": "markdown",
   "metadata": {
    "heading_collapsed": true,
    "hidden": true
   },
   "source": [
    "### Error Copying a class - does not duplicate memory on the heap. (07_copy_semantics.cpp)"
   ]
  },
  {
   "cell_type": "markdown",
   "metadata": {
    "hidden": true
   },
   "source": [
    "The class MyClass has a private member, which is a pointer to a heap-allocated integer. Allocation is performed in the constructor, deallocation is done in the destructor. This means that the memory block of size sizeof(int) is allocated when the objects myClass1 and myClass2 are created on the stack and deallocated when their scope is left, which happens at the end of the main. The difference between myClass1 and myClass2 is that the latter is instantiated using the copy constructor, which duplicates the members in myClass1 - including the pointer to the heap memory where _myInt resides.\n",
    "\n",
    "The output of the program looks like the following:\n",
    "```\n",
    "Own address on the stack is 0x7ffeefbff670\n",
    "Managing memory block on the heap at 0x100300060\n",
    "Own address on the stack is 0x7ffeefbff658\n",
    "Managing memory block on the heap at 0x100300060\n",
    "copy_constructor_1(87582,0x1000a95c0) malloc: *** error for object 0x100300060: pointer being freed was not allocated\n",
    "```\n",
    "Note that in the workspace, the error will read: \n",
    "```\n",
    "*** Error in './a.out': double free or corruption (fasttop): 0x0000000001133c20 ***\n",
    "```\n",
    "From the output we can see that the stack address is different for myClass1 and myClass2 - as was expected. The address of the managed memory block on the heap however is identical. This means that when the first object goes out of scope, it releases the memory resource by calling free in its destructor. The second object does the same - which causes the program to crash as the pointer is now referencing an invalid area of memory, which has already been freed.\n",
    "\n",
    "\n",
    "* My computer reproduce the double memory on the heap but the executalble does not output an error. Ubuntu 18.04"
   ]
  },
  {
   "cell_type": "markdown",
   "metadata": {
    "hidden": true
   },
   "source": [
    "**Copying Policies**\n",
    "\n",
    "1.    Default copying\n",
    "2.    No copying\n",
    "3.    Exclusive ownership\n",
    "4.    Deep copying\n",
    "5.    Shared ownership\n"
   ]
  },
  {
   "cell_type": "markdown",
   "metadata": {
    "heading_collapsed": true,
    "hidden": true
   },
   "source": [
    "### Copying ownership policy\n",
    "\n"
   ]
  },
  {
   "cell_type": "markdown",
   "metadata": {
    "hidden": true
   },
   "source": [
    "The copying process must be closely linked to the respective resource release mechanism and is often referred to as copy-ownership policy. Tailoring the copy constructor according to your memory management policy is an important choice you often need to make when designing a class. In the following, we will closely examine several well-known copy-ownership policies."
   ]
  },
  {
   "cell_type": "markdown",
   "metadata": {
    "heading_collapsed": true,
    "hidden": true
   },
   "source": [
    "### No copying policy (07_no_copy.cpp)"
   ]
  },
  {
   "cell_type": "markdown",
   "metadata": {
    "hidden": true
   },
   "source": [
    "The simplest policy of all is to forbid copying and assigning class instances all together. This can be achieved by declaring, but not defining a private copy constructor and assignment operator (NoCopyClass1). or making both public and assigning the delete operator (NoCopyClass2).\n",
    "\n",
    "```\n",
    "error: calling a private constructor of class 'NoCopyClass1'\n",
    "    NoCopyClass1 copy1(original1);\n",
    "    NoCopyClass1 copy1b = original1; \n",
    "\n",
    "error: call to deleted constructor of 'NoCopyClass2'\n",
    "    NoCopyClass2 copy2(original2);\n",
    "    NoCopyClass2 copy2b = original2;\n",
    "``` \n",
    "\n",
    "Both cases effectively prevent the original object from being copied or assigned. In the C++11 standard library, there are some classes for multi-threaded synchronization which use the no copying policy."
   ]
  },
  {
   "cell_type": "markdown",
   "metadata": {
    "heading_collapsed": true,
    "hidden": true
   },
   "source": [
    "### Exclusive ownership policy (07_exclusive_ownership.cpp)"
   ]
  },
  {
   "cell_type": "markdown",
   "metadata": {
    "hidden": true
   },
   "source": [
    "This policy states that whenever a resource management object is copied, the resource handle is transferred from the source pointer to the destination pointer. In the process, the source pointer is set to nullptr to make ownership exclusive. At any time, the resource handle belongs only to a single object, which is responsible for its deletion when it is no longer needed. \n",
    "\n",
    "* It is necessary to overload both, the copy constructor and the copy assigment operator.\n"
   ]
  },
  {
   "cell_type": "markdown",
   "metadata": {
    "hidden": true
   },
   "source": [
    "As can be seen, only a single resource is allocated and freed. So by passing handles and invalidating them, we can implement a basic version of an exclusive ownership policy. However, this example is not the way exclusive ownership is handled in the standard template library. One problem in this implementation is that for a short time there are effectively two valid handles to the same resource - after the handle has been copied and before it is set to nullptr. **In concurrent programs, this would cause a data race for the resource**. A much better alternative to handle exclusive ownership in C++ would be to use ```move semantics```, which we will discuss shortly in a very detailed lesson. "
   ]
  },
  {
   "cell_type": "markdown",
   "metadata": {
    "heading_collapsed": true,
    "hidden": true
   },
   "source": [
    "### Deep copying policy (07_deep_copy.cpp)"
   ]
  },
  {
   "cell_type": "markdown",
   "metadata": {
    "hidden": true
   },
   "source": [
    "With this policy, copying and assigning class instances to each other is possible without the danger of resource conflicts. The idea is to allocate proprietary memory in the destination object and then to copy the content to which the source object handle is pointing into the newly allocated block of memory. This way, the content is preserved during copy or assignment. However, this approach increases the memory demands and the uniqueness of the data is lost: After the deep copy has been made, two versions of the same resource exist in memory.\n",
    "\n",
    "The deep-copy version of MyClass looks similar to the exclusive ownership policy: Both the assignment operator and the copy constructor have been overloaded with the source object passed by reference. But instead of copying the source handle (and then deleting it), a proprietary block of memory is allocated on the heap and the content of the source is copied into it. \n",
    "\n",
    "```\n",
    "resource allocated at address 0x100300060\n",
    "resource allocated at address 0x100300070 with _myInt = 42\n",
    "resource allocated at address 0x100300080 with _myInt = 42\n",
    "resource freed at address 0x100300080\n",
    "resource freed at address 0x100300070\n",
    "resource freed at address 0x100300060\n",
    "```"
   ]
  },
  {
   "cell_type": "markdown",
   "metadata": {
    "heading_collapsed": true,
    "hidden": true
   },
   "source": [
    "### Shared ownership policy (07_shared_ownership.cpp)"
   ]
  },
  {
   "cell_type": "markdown",
   "metadata": {
    "hidden": true
   },
   "source": [
    "The last ownership policy we will be discussing in this course implements a shared ownership behavior. The idea is to perform a copy or assignment similar to the default behavior, i.e. **copying the handle instead of the content** (as with a shallow copy) while at the same time **keeping track of the number of instances that also point to the same resource**. Each time an instance goes out of scope, the counter is decremented. Once the last object is about to be deleted, it can safely deallocate the memory resource. We will see later in this course that this is the central idea of unique_ptr, which is a representative of the group of smart pointers."
   ]
  },
  {
   "cell_type": "markdown",
   "metadata": {
    "heading_collapsed": true,
    "hidden": true
   },
   "source": [
    "### Rule of three"
   ]
  },
  {
   "cell_type": "markdown",
   "metadata": {
    "hidden": true
   },
   "source": [
    "Rule of Three states that if a class needs to have an overloaded copy constructor, copy assignment operator, ~or~ destructor, then it must also implement the other two as well to ensure that memory is managed consistently."
   ]
  },
  {
   "cell_type": "markdown",
   "metadata": {
    "heading_collapsed": true,
    "hidden": true
   },
   "source": [
    "## Lvalues and Rvalues "
   ]
  },
  {
   "cell_type": "markdown",
   "metadata": {
    "heading_collapsed": true,
    "hidden": true
   },
   "source": [
    "### Value categories "
   ]
  },
  {
   "cell_type": "markdown",
   "metadata": {
    "hidden": true
   },
   "source": [
    "A good grasp of lvalues and rvalues in C++ is essential for understanding the more advanced concepts of rvalue references and motion semantics.\n",
    "\n",
    "Let us start by stating that every expression in C++ has a type and belongs to a value category. **When objects are created, copied or moved during the evaluation of an expression, the compiler uses these value expressions to decide which method to call or which operator to use**. "
   ]
  },
  {
   "cell_type": "markdown",
   "metadata": {
    "hidden": true
   },
   "source": [
    "<img width=\"400\" src=\"figs/valuecategories.png\">\n",
    "\n",
    "** Value categories **"
   ]
  },
  {
   "cell_type": "markdown",
   "metadata": {
    "hidden": true
   },
   "source": [
    "* **Lvalues** have an address that can be accessed. They are expressions whose evaluation by the compiler determines the identity of objects or functions.\n",
    "\n",
    "* **Prvalues** do not have an address that is accessible directly. They are temporary expressions used to initialize objects or compute the value of the operand of an operator.\n",
    "\n",
    "*For the sake of simplicity and for compliance with many tutorials, videos and books about the topic, let us ***refer to prvalues as rvalues*** from here on.\n",
    "\n",
    "\n",
    "The two characters l and r are originally derived from the perspective of the assignment operator =, which always expects a rvalue on the right, and which it assigns to a lvalue on the left. In this case, the l stands for left and r for right:\n",
    "\n",
    "```int i = 42;  // lvalue = rvalue;```"
   ]
  },
  {
   "cell_type": "markdown",
   "metadata": {
    "hidden": true
   },
   "source": [
    "* With many other operators, however, this right-left view is not entirely correct. In more general terms, an **lvalue is an entity that points to a specific memory location**. \n",
    "* An rvalue is usually a short-lived object, which is only needed in a narrow local scope. To simplify things a little, one could think of **lvalues as named containers for rvalues**. "
   ]
  },
  {
   "cell_type": "markdown",
   "metadata": {
    "hidden": true
   },
   "source": [
    "Using the address operator & we can generate an lvalue from an rvalue and assign it to another lvalue:\n",
    "\n",
    "```int *j = &i;```\n",
    "\n",
    "In this small example, the expression &i generates the address of i as an rvalue and assigns it to j, which is an lvalue now holding the memory location of i.\n",
    "\n",
    "```08_l_and_r_value_examples.cpp ```"
   ]
  },
  {
   "cell_type": "markdown",
   "metadata": {
    "heading_collapsed": true,
    "hidden": true
   },
   "source": [
    "### Lvalue references (08_l_value_references.cpp)"
   ]
  },
  {
   "cell_type": "markdown",
   "metadata": {
    "hidden": true
   },
   "source": [
    "An lvalue reference can be considered as an alternative name for an object. It is a reference that binds to an lvalue and is declared using an optional list of specifiers (which we will not further discuss here) followed by the reference declarator &. The short code sample on the right declares an integer i and a reference j which can be used as an alias for the existing object.\n",
    "\n",
    "```i = 3, j = 3```\n",
    "\n",
    "We can see that the lvalue reference j can be used just as i can. A change to either i or j will affect the same memory location on the stack."
   ]
  },
  {
   "cell_type": "markdown",
   "metadata": {
    "heading_collapsed": true,
    "hidden": true
   },
   "source": [
    "### l_value_references_2.cpp\n",
    "\n",
    "One of the **primary use-cases for lvalue references is the pass-by-reference semantics** in function calls as in the example on the right.\n",
    "\n",
    "The function myFunction has an lvalue reference as a parameter, which establishes an alias to the integer i which is passed to it in main.\n"
   ]
  },
  {
   "cell_type": "markdown",
   "metadata": {
    "heading_collapsed": true,
    "hidden": true
   },
   "source": [
    "### Rvalues references "
   ]
  },
  {
   "cell_type": "markdown",
   "metadata": {
    "hidden": true
   },
   "source": [
    "You already know that an rvalue is a temporary expression which is - among other use-cases, a means of initializing objects. In the call int i = 42, 42 is the \n",
    "rvalue.\n",
    "\n",
    "Let us consider an example similar to the last one, shown on the right.\n",
    "\n",
    "As before, the function myFunction takes an lvalue reference as its argument. In main, the call myFunction(j) works just fine while myFunction(42) as well as myFunction(j+k) produces the following compiler error on Mac:\n",
    "\n",
    "```candidate function not viable: expects an l-value for 1st argument```\n",
    "\n",
    "and the following error in the workspace with g++:\n",
    "\n",
    "```error: cannot bind non-const lvalue reference of type ‘int&’ to an rvalue of type ‘int’```\n",
    "\n",
    "While the number 42 is obviously an rvalue, with j+k things might not be so obvious, as j and k are variables and thus lvalues. To compute the result of the addition, the compiler has to create a temporary object to place it in - and this object is an rvalue. \n"
   ]
  },
  {
   "cell_type": "markdown",
   "metadata": {
    "heading_collapsed": true,
    "hidden": true
   },
   "source": [
    "### rvalues: int &&l -> r_value_references_2.cpp\n",
    "\n",
    "\n"
   ]
  },
  {
   "cell_type": "markdown",
   "metadata": {
    "hidden": true
   },
   "source": [
    "Since C++11, there is a new type available called rvalue reference, which can be identified from the double ampersand && after a type name. With this operator, it is possible to store and even modify an rvalue, i.e. a temporary object which would otherwise be lost quickly.\n",
    "\n",
    "But what do we need this for? Before we look into the answer to this question, let us consider the example on the right."
   ]
  },
  {
   "cell_type": "markdown",
   "metadata": {
    "hidden": true
   },
   "source": [
    "After creating the integers i and j on the stack, the sum of both is added to a third integer k. Let us examine this simple example a little more closely. In the first and second assignment, i and j are created as lvalues, while 1 and 2 are rvalues, whose value is copied into the memory location of i and j. Then, a third lvalue, k, is created. The sum i+j is created as an rvalue, which holds the result of the addition before being copied into the memory location of k. This is quite a lot of copying and holding of temporary values in memory. With an rvalue reference, this can be done more efficiently.\n",
    "\n",
    "The expression int &&l creates an rvalue reference, to which the address of the temporary object is assigned, that holds the result of the addition. So instead of first creating the rvalue i+j , then copying it and finally deleting it, we can now hold the temporary object in memory. This is much more efficient than the first approach, even though saving a few bytes of storage in the example might not seem like much at first glance. One of the most important aspects of rvalue references is that they pave the way for move semantics, which is a mighty technique in modern C++ to optimize memory usage and processing speed. Move semantics and rvalue references make it possible to write code that transfers resources such as dynamically allocated memory from one object to another in a very efficient manner and also supports the concept of exclusive ownership, as we will shortly see when discussing smart pointers. In the next section we will take a close look at move semantics and its benefits for memory management.\n"
   ]
  },
  {
   "cell_type": "markdown",
   "metadata": {
    "heading_collapsed": true,
    "hidden": true
   },
   "source": [
    "## Move Semantics"
   ]
  },
  {
   "cell_type": "markdown",
   "metadata": {},
   "source": [
    "In order to fully understand the concept of smart pointers in the next lesson, we first need to take a look at a powerful concept introduced with C++11 called *move semantics*. "
   ]
  },
  {
   "cell_type": "markdown",
   "metadata": {
    "hidden": true
   },
   "source": [
    "### Rvalue references and std::move"
   ]
  },
  {
   "cell_type": "markdown",
   "metadata": {},
   "source": [
    "Let us consider the function 09_rvaue_example.cpp which takes an rvalue reference as its parameter.\n",
    "\n",
    "The important message of the function argument of myFunction to the programmer is : The object that binds to the rvalue reference &&val is yours, it is not needed anymore within the scope of the caller (which is main). As discussed in the previous section on rvalue references, this is interesting from two perspectives:"
   ]
  },
  {
   "cell_type": "markdown",
   "metadata": {},
   "source": [
    "\n",
    "1. Passing values like this **improves performance** as no temporary copy needs to be made anymore and\n",
    "2. **ownership changes**, since the object the reference binds to has been abandoned by the caller and now binds to a handle which is available only to the receiver. This could not have been achieved with lvalue references as any change to the object that binds to the lvalue reference would also be visible on the caller side.\n"
   ]
  },
  {
   "cell_type": "markdown",
   "metadata": {},
   "source": [
    "There is one more important aspect we need to consider: *rvalue references are themselves lvalues*. While this might seem confusing at first glance, it really is the mechanism that enables move semantics: A reference is always defined in a certain context (such as in the above example the variable val) . Even though the object it refers to (the number 42) may be disposable in the context it has been created (the main function), it is not disposable in the context of the reference . **So within the scope of myFunction, val is an lvalue as it gives access to the memory location where the number 42 is stored**. \n",
    "\n",
    "Note however that in the above code example we cannot pass an lvalue to myFunction, because an rvalue reference cannot bind to an lvalue. The code\n",
    "\n",
    "```\n",
    "int i = 23; \n",
    "myFunction(i); \n",
    "```\n",
    "would result in a compiler error. There is a solution to this problem though: The function std::move converts an lvalue into an rvalue (actually, to be exact, into an xvalue, which we will not discuss here for the sake of clarity), which makes it possible to use the lvalue as an argument for the function: \n",
    "\n",
    "```\n",
    "int i = 23; \n",
    "myFunction(std::move(i)); \n",
    "```\n",
    "\n",
    "**In doing this, we state that in the scope of main we will not use i anymore**, which now exists only in the scope of myFunction. Using std::move in this way is one of the components of move semantics, which we will look into shortly. But first let us consider an example of the Rule of Three. "
   ]
  },
  {
   "cell_type": "markdown",
   "metadata": {},
   "source": [
    "### Example of the Rule of three (09_rule_of_three.cpp)"
   ]
  },
  {
   "cell_type": "markdown",
   "metadata": {},
   "source": [
    "In this class, a block of heap memory is allocated in the constructor and deallocated in the destructor. As we have discussed before, **when either destructor, copy constructor or copy assignment operator are defined, it is good practice to also define the other two** (known as the Rule of Three). While the compiler would generate default versions of the missing components, these would not properly reflect the memory management strategy of our class, so leaving out the manual implementation is usually not advised."
   ]
  },
  {
   "cell_type": "markdown",
   "metadata": {},
   "source": [
    "So let us start with the copy constructor of MyMovableClass, which could look like the following:\n",
    "\n",
    "```\n",
    "    MyMovableClass(const MyMovableClass &source) // 2 : copy constructor\n",
    "    {\n",
    "        _size = source._size;\n",
    "        _data = new int[_size];\n",
    "        *_data = *source._data;\n",
    "        std::cout << \"COPYING content of instance \" << &source << \" to instance \" << this << std::endl;\n",
    "    }\n",
    "```\n",
    "\n",
    "Similar to an example in the section on copy semantics, the copy constructor takes an lvalue reference to the source instance, allocates a block of memory of the same size as in the source and then copies the data into its members (as a deep copy)\n"
   ]
  },
  {
   "cell_type": "markdown",
   "metadata": {},
   "source": [
    "Next, let us take a look at the copy assignment operator: \n",
    "\n",
    "```\n",
    "MyMovableClass &operator=(const MyMovableClass &source) // 3 : copy assignment operator\n",
    "    {\n",
    "        std::cout << \"ASSIGNING content of instance \" << &source << \" to instance \" << this << std::endl;\n",
    "        if (this == &source)\n",
    "            return *this;\n",
    "        delete[] _data;\n",
    "        _data = new int[source._size];\n",
    "        *_data = *source._data;\n",
    "        _size = source._size;\n",
    "        return *this;\n",
    "    }\n",
    "```\n",
    "\n",
    "The if-statement at the top of the above implementation protects against self-assignment and is standard boilerplate code for the user-defined assignment operator. The remainder of the code is more or less identical to the copy constructor, apart from returning a reference to the own instance using this.\n",
    "\n",
    "You might have noticed that both copy constructor and assignment operator take a const reference to the source object as an argument, by which **they promise that they won’ (and can’t) modify the content of source**. "
   ]
  },
  {
   "cell_type": "markdown",
   "metadata": {},
   "source": [
    "We can now use our class to copy objects as shown in the following implementation of main:\n",
    "\n",
    "```\n",
    "int main()\n",
    "{\n",
    "    MyMovableClass obj1(10); // regular constructor\n",
    "    MyMovableClass obj2(obj1); // copy constructor\n",
    "    obj2 = obj1; // copy assignment operator\n",
    "\n",
    "    return 0;\n",
    "}\n",
    "```\n",
    "\n",
    "Add this code to the rule_of_three.cpp file on the right.\n",
    "\n",
    "In the main above, the object obj1 is created using the regular constructor of MyMovableClass. Then, both the copy constructor as well as the assignment operator are used with the latter one not creating a new object but instead assigning the content of obj1 to obj2 as defined by our copying policy. \n",
    "\n",
    "```\n",
    "CREATING instance of MyMovableClass at 0x7ffe7149f4f0 allocated with size = 40 bytes\n",
    "COPYING content of instance 0x7ffe7149f4f0 to instance 0x7ffe7149f500\n",
    "ASSIGNING content of instance 0x7ffe7149f4f0 to instance 0x7ffe7149f500\n",
    "DELETING instance of MyMovableClass at 0x7ffe7149f500\n",
    "DELETING instance of MyMovableClass at 0x7ffe7149f4f0\n",
    "```"
   ]
  },
  {
   "cell_type": "markdown",
   "metadata": {},
   "source": [
    "#### Limitations of Our curent Class Design. (09_rule_of_three_2.cpp)"
   ]
  },
  {
   "cell_type": "markdown",
   "metadata": {},
   "source": [
    "Let us now consider one more way to instantiate MyMovableClass object by using createObject() function. Add the following function definition to the rule_of_three.cpp, outside the scope of the class MyMovableClass:\n",
    "\n",
    "```\n",
    "MyMovableClass createObject(int size){\n",
    "  MyMovableClass obj(size); // regular constructor\n",
    "  return obj; // return MyMovableClass object by value\n",
    "}\n",
    "```\n",
    "\n",
    "Note that when a function returns an object by value, the compiler creates a temporary object as an rvalue. Let's call this function inside main to create an obj4 instance, as follows:\n",
    "```\n",
    "int main()\n",
    "{\n",
    "    MyMovableClass obj1(10); // regular constructor\n",
    "    MyMovableClass obj2(obj1); // copy constructor\n",
    "    obj2 = obj1; // copy assignment operator\n",
    "    \n",
    "    // call to copy constructor, (alternate syntax)\n",
    "    MyMovableClass obj3 = obj1;\n",
    "    // Here, we are instantiating obj3 in the same statement; hence the copy assignment operator would not be called.\n",
    "\n",
    "    MyMovableClass obj4 = createObject(10);\n",
    "    // createObject(10) returns a temporary copy of the object as an rvalue, which is passed to the copy constructor.\n",
    "\n",
    "    /*\n",
    "    * You can try executing the statement below as well\n",
    "    * MyMovableClass obj4(createObject(10));\n",
    "    */\n",
    "        \n",
    "    return 0;\n",
    "}\n",
    "\n",
    "```\n",
    "\n",
    "In the main above, the returned value of createObject(10) is passed to the copy constructor. The function createObject() returns an instance of MyMovableClass by value. In such a case, the compiler creates a temporary copy of the object as an rvalue, which is passed to the copy constructor.\n",
    "\n",
    "  * ***A special call to copy constructor***\n",
    "  * *Try compiling and then running the rule_of_three.cpp to notice that MyMovableClass obj4 = createObject(10); would not print the cout statement of copy constructor on the console. This is because the copy constructor is called on the temporary object.*\n",
    "\n",
    "\n",
    "In our current class design, while creating obj4, the data is dynamically allocated on the stack, which is then copied from the temporary object to its target destination. This means that **two expensive memory operations are performed** with the first occurring during the creation of the temporary rvalue and the second during the execution of the copy constructor. The similar two expensive memory operations would be performed with the assignment operator if we execute the following statement inside main:\n",
    "\n",
    "```\n",
    "MyMovableClass obj4 = createObject(10); // Don't write this statement if you have already written it before\n",
    "obj4 = createObject(10); // call to copy assignment operator\n",
    "```\n",
    "\n",
    "In the above call to copy assignment operator, it would first erase the memory of obj4, then reallocate it during the creation of the temporary object; and then copy the data from the temporary object to obj4.\n",
    "\n",
    "From a performance viewpoint, this code involves far too many copies, making it inefficient - especially with large data structures. Prior to C++11, the proper solution in such a case was to simply avoid returning large data structures by value to prevent the expensive and unnecessary copying process. With C++11 however, there is a way we can optimize this and return even large data structures by value. The solution is the **move constructor and the Rule of Five**. "
   ]
  },
  {
   "cell_type": "markdown",
   "metadata": {},
   "source": [
    "### The move constructor (09_rule_of_five.cpp)"
   ]
  },
  {
   "cell_type": "markdown",
   "metadata": {},
   "source": [
    "The basic idea to optimize the code from the last example is to \"steal\" the rvalue generated by the compiler during the return-by-value operation and move the expensive data in the source object to the target object - not by copying it but by redirecting the data handles. **Moving data in such a way is always cheaper than making copies**, which is why programmers are highly encouraged to make use of this powerful tool.\n",
    "\n",
    "<img width=\"400\" src=\"figs/moveprinciple.png\">\n",
    "\n",
    "In order to achieve this, we will be using a construct called move constructor, which is similar to the copy constructor with the key difference being the re-use of existing data without unnecessarily copying it. In addition to the move constructor, there is also a move assignment operator, which we need to look at.\n"
   ]
  },
  {
   "cell_type": "markdown",
   "metadata": {},
   "source": [
    "#### Move constructor"
   ]
  },
  {
   "cell_type": "markdown",
   "metadata": {},
   "source": [
    "Just like the copy constructor, the move constructor builds an instance of a class using a source instance. The key difference between the two is that with the move constructor, the source instance will no longer be usable afterwards. Let us take a look at an implementation of the move constructor for our MyMovableClass:\n",
    "\n",
    "```\n",
    "    MyMovableClass(MyMovableClass &&source) // 4 : move constructor\n",
    "    {\n",
    "        std::cout << \"MOVING (c’tor) instance \" << &source << \" to instance \" << this << std::endl;\n",
    "        _data = source._data;\n",
    "        _size = source._size;\n",
    "        source._data = nullptr;\n",
    "        source._size = 0;\n",
    "    }\n",
    "```\n",
    "\n",
    "In this code, the move constructor *takes as its input an rvalue reference* to a source object of the same class. In doing so, we are able to use the object within the scope of the move constructor. As can be seen, the implementation *copies the data handle from source to target and immediately invalidates source* after copying is complete. Now, this is responsible for the data and **must also release memory on destruction** - the *ownership has been successfully changed (or moved)* without the need to copy the data on the heap.\n"
   ]
  },
  {
   "cell_type": "markdown",
   "metadata": {},
   "source": [
    "#### Move assigment operator"
   ]
  },
  {
   "cell_type": "markdown",
   "metadata": {},
   "source": [
    "The move assignment operator works in a similar way:\n",
    "\n",
    "```\n",
    "    MyMovableClass &operator=(MyMovableClass &&source) // 5 : move assignment operator\n",
    "    {\n",
    "        std::cout << \"MOVING (assign) instance \" << &source << \" to instance \" << this << std::endl;\n",
    "        if (this == &source)\n",
    "            return *this;\n",
    "\n",
    "        delete[] _data;\n",
    "\n",
    "        _data = source._data;\n",
    "        _size = source._size;\n",
    "\n",
    "        source._data = nullptr;\n",
    "        source._size = 0;\n",
    "\n",
    "        return *this;\n",
    "    }\n",
    "```\n",
    "\n",
    "As with the move constructor, the data handle is copied from source to target which is coming in as an rvalue reference again. Afterwards, the data members of source are invalidated. The rest of the code is identical with the copy constructor we have already implemented. "
   ]
  },
  {
   "cell_type": "markdown",
   "metadata": {},
   "source": [
    "### Rule of Five"
   ]
  },
  {
   "cell_type": "markdown",
   "metadata": {},
   "source": [
    "By adding both the move constructor and the move assignment operator to our MyMovableClass, we have adhered to the Rule of Five. This rule is an extension of the Rule of Three which we have already seen and exists since the introduction of the C++11 standard. The **Rule of Five is especially important in resource management**, where unnecessary copying needs to be avoided due to limited resources and performance reasons. Also, **all the STL container classes such as std::vector implement the Rule of Five and use move semantics for increased efficiency**.\n",
    "\n",
    "The Rule of Five states that if you have to write one of the functions listed below then you should consider implementing all of them with a proper resource management policy in place. If you forget to implement one or more, the compiler will usually generate the missing ones (without a warning) but the default versions might not be suitable for the purpose you have in mind. The five functions are:\n",
    "\n",
    "1. The **destructor**: Responsible for freeing the resource once the object it belongs to goes out of scope.\n",
    "\n",
    "2. The **assignment operator**: The *default* assignment operation performs a member-wise shallow copy, which *does not copy the content behind the resource handle*. If a deep copy is needed, it has be implemented by the programmer.\n",
    "\n",
    "3. The **copy constructor**: As with the assignment operator, the *default* copy constructor *performs a shallow copy* of the data members. If something else is needed, the programmer has to implement it accordingly.\n",
    "\n",
    "4. The **move constructor**: Because copying objects can be an expensive operation which involves creating, copying and destroying temporary objects, rvalue references are used to bind to an rvalue. Using this mechanism, the *move constructor transfers the ownership of a resource from a (temporary) rvalue object to a permanent lvalue object*.\n",
    "\n",
    "5. The **move assignment operator**: With this operator, *ownership of a resource can be transferred from one object to another*. The internal behavior is very similar to the move constructor.\n",
    "\n"
   ]
  },
  {
   "cell_type": "markdown",
   "metadata": {},
   "source": [
    "### When are move semantics used?"
   ]
  },
  {
   "cell_type": "markdown",
   "metadata": {},
   "source": [
    "Now that we have seen how move semantics work, let us take a look at situations where they actually apply.\n",
    "\n",
    "One of the primary areas of application are cases, where **heavy-weight objects need to be passed around in a program**. Copying these without move semantics can cause series performance issues. The idea in this scenario is to create the object a single time and then \"simply\" move it around using rvalue references and move semantics.\n",
    "\n",
    "A second area of application are cases **where ownership needs to be transferred** (such as with unique pointers, as we will soon see). The primary difference to shared references is that *with move semantics we are not sharing anything but instead we are ensuring through a smart policy that only a single object at a time has access to and thus owns the resource*."
   ]
  },
  {
   "cell_type": "markdown",
   "metadata": {},
   "source": [
    "### Examples of move semantics (rule of five)"
   ]
  },
  {
   "cell_type": "markdown",
   "metadata": {},
   "source": [
    "#### Example 1: (09_rule_of_five_1.cpp)"
   ]
  },
  {
   "cell_type": "markdown",
   "metadata": {},
   "source": [
    "Let us look at some code examples:\n",
    "\n",
    "```\n",
    "int main()\n",
    "{\n",
    "    MyMovableClass obj1(100), obj2(200); // constructor\n",
    "\n",
    "    MyMovableClass obj3(obj1); // copy constructor\n",
    "\n",
    "    MyMovableClass obj4 = obj1; // copy constructor\n",
    "\n",
    "    obj4 = obj2; // copy assignment operator\n",
    "\n",
    "    return 0;\n",
    "}\n",
    "```\n",
    "\n",
    "If you compile and run this code, be sure to use the -std=c++11 flag. The reasons for this will be explained below.\n",
    "\n",
    "In the code above, in total, four instances of MyMovableClass are constructed here. While obj1 and obj2 are created using the conventional constructor, obj3 is created using the copy constructor instead according to our implementation. Interestingly, even though the creation of obj4 looks like an assignment, the compiler calls the copy constructor int this case. Finally, the last line calls the copy assignment operator. The output of the above main function looks like the following: \n",
    "\n",
    "```\n",
    "CREATING instance of MyMovableClass at 0x7ffd0b5b2920 allocated with size = 400 bytes\n",
    "CREATING instance of MyMovableClass at 0x7ffd0b5b2930 allocated with size = 800 bytes\n",
    "COPYING content of instance 0x7ffd0b5b2920 to instance 0x7ffd0b5b2940\n",
    "COPYING content of instance 0x7ffd0b5b2920 to instance 0x7ffd0b5b2950\n",
    "ASSIGNING content of instance 0x7ffd0b5b2930 to instance 0x7ffd0b5b2950\n",
    "DELETING instance of MyMovableClass at 0x7ffd0b5b2950\n",
    "DELETING instance of MyMovableClass at 0x7ffd0b5b2940\n",
    "DELETING instance of MyMovableClass at 0x7ffd0b5b2930\n",
    "DELETING instance of MyMovableClass at 0x7ffd0b5b2920\n",
    "```\n",
    "\n",
    "Note that the compiler has been called with the option ```-fno-elide-constructors``` to turn off an optimization techniques called copy elision, which would make it harder to understand the various calls and the operations they entail. This technique is guaranteed to be used as of C++17, which is why we are also reverting to the C++11 standard for the remainder of this chapter using -std=c++11. Until now, no move operation has been performed yet as all of the above calls were involving lvalues. "
   ]
  },
  {
   "cell_type": "markdown",
   "metadata": {},
   "source": [
    "#### Example 2: (09_rule_of_five_2.cpp)"
   ]
  },
  {
   "cell_type": "markdown",
   "metadata": {},
   "source": [
    "Now consider the following main function instead:\n",
    "\n",
    "```\n",
    "int main()\n",
    "{\n",
    "    MyMovableClass obj1(100); // constructor\n",
    "\n",
    "    obj1 = MyMovableClass(200); // move assignment operator\n",
    "\n",
    "    MyMovableClass obj2 = MyMovableClass(300); // move constructor \n",
    "\n",
    "    return 0;\n",
    "}\n",
    "```\n",
    "\n",
    "In this version, we also have an instance of MyMovableClass, obj1. Then, a second instance of MyMovableClass is created as an rvalue, which is assigned to obj1. Finally, we have a second lvalue obj2, which is created by assigning it an rvalue object. Let us take a look at the output of the program:\n",
    "\n",
    "```\n",
    "CREATING instance of MyMovableClass at 0x7ffeefbff718 allocated with size = 400 bytes\n",
    "CREATING instance of MyMovableClass at 0x7ffeefbff708 allocated with size = 800 bytes\n",
    "MOVING (assign) instance 0x7ffeefbff708 to instance 0x7ffeefbff718\n",
    "DELETING instance of MyMovableClass at 0x7ffeefbff708\n",
    "CREATING instance of MyMovableClass at 0x7ffeefbff6d8 allocated with size = 1200 bytes\n",
    "MOVING (c'tor) instance 0x7ffeefbff6d8 to instance 0x7ffeefbff6e8\n",
    "DELETING instance of MyMovableClass at 0x7ffeefbff6d8\n",
    "DELETING instance of MyMovableClass at 0x7ffeefbff6e8\n",
    "DELETING instance of MyMovableClass at 0x7ffeefbff718\n",
    "```\n",
    "\n",
    "* The code must be run with ```g++ 09_rule_of_five_2.cpp -std=c++11 -fno-elide-constructors``` \n",
    "\n",
    "By looking at the stack addresses of the objects, we can see that the temporary object at 0x7ffeefbff708 is moved to 0x7ffeefbff718 using the move assignment operator we wrote earlier, because the instance obj1 is assigned an rvalue. As expected from an rvalue, its destructor is called immediately afterwards. But as we have made sure to null its data pointer in the *move constructor*, the actual data will not be deleted. *The advantage from a performance perspective in this case is that no deep-copy of the rvalue object needs to be made*, we are simply redirecting the internal resource handle thus making an efficient shallow copy.\n",
    "\n",
    "Next, another temporary instance with a size of 1200 bytes is created as a temporary object and \"assigned\" to obj3. Note that while the call looks like an assignment, the move constructor is called under the hood, making the call identical to MyMovableClass obj2(MyMovableClass(300));. **By creating obj3 in such a way, we are reusing the temporary rvalue and transferring ownership of its resources to the newly created obj3**."
   ]
  },
  {
   "cell_type": "markdown",
   "metadata": {},
   "source": [
    "#### Example 3: 09_rule_of_five_3.cpp"
   ]
  },
  {
   "cell_type": "markdown",
   "metadata": {},
   "source": [
    "Let us now consider a final example:\n",
    "\n",
    "```\n",
    "void useObject(MyMovableClass obj)\n",
    "{\n",
    "    std::cout << \"using object \" << &obj << std::endl;\n",
    "}\n",
    "\n",
    "int main()\n",
    "{\n",
    "    MyMovableClass obj1(100); // constructor\n",
    "\n",
    "    useObject(obj1);\n",
    "\n",
    "    useObject(std::move(MyMovableClass(200)));\n",
    "\n",
    "    return 0;\n",
    "}\n",
    "```\n",
    "\n",
    "In this case, an instance of MyMovableClass, obj1, is passed to a function useObject by value, thus making a copy of it.\n",
    "\n",
    "Let us take an immediate look at the output of the program, before going into details:\n",
    "\n",
    "```\n",
    "(1)\n",
    "CREATING instance of MyMovableClass at 0x7ffeefbff718 allocated with size = 400 bytes\n",
    "\n",
    "(2)\n",
    "COPYING content of instance 0x7ffeefbff718 to instance 0x7ffeefbff708\n",
    "\n",
    "using object 0x7ffeefbff708\n",
    "\n",
    "(3)\n",
    "DELETING instance of MyMovableClass at 0x7ffeefbff708\n",
    "\n",
    "(4)\n",
    "CREATING instance of MyMovableClass at 0x7ffeefbff6d8 allocated with size = 800 bytes\n",
    "\n",
    "(5)\n",
    "MOVING (c'tor) instance 0x7ffeefbff6d8 to instance 0x7ffeefbff6e8\n",
    "\n",
    "using object 0x7ffeefbff6e8\n",
    "\n",
    "DELETING instance of MyMovableClass at 0x7ffeefbff6e8\n",
    "DELETING instance of MyMovableClass at 0x7ffeefbff6d8\n",
    "DELETING instance of MyMovableClass at 0x7ffeefbff718\n",
    "```\n",
    "\n",
    "* Compiling with ```g++ 09_rule_of_five_3.cpp -std=c++11 -fno-elide-constructors```\n",
    "\n",
    "First, we are creating an instance of MyMovableClass, obj1, by calling the constructor of the class (1).\n",
    "\n",
    "Then, we are passing obj1 by-value to a function useObject, which causes a temporary object obj to be instantiated, which is a copy of obj1 (2) and is deleted immediately after the function scope is left (3).\n",
    "\n",
    "Then, the function is called with a temporary instance of MyMovableClass as its argument, which creates a temporary instance of MyMovableClass as an rvalue (4). But instead of making a copy of it as before, the move constructor is used (5) to transfer ownership of that temporary object to the function scope, which saves us one expensive deep-copy. "
   ]
  },
  {
   "cell_type": "markdown",
   "metadata": {},
   "source": [
    "### Moving values: (09_rule_of_five_4.cpp)"
   ]
  },
  {
   "cell_type": "markdown",
   "metadata": {},
   "source": [
    "There is one final aspect we need to look at: In some cases, it can make sense to treat lvalues like rvalues. At some point in your code, you might want to transfer ownership of a resource to another part of your program as it is not needed anymore in the current scope. But instead of copying it, you want to just move it as we have seen before. *The \"problem\" with our implementation of MyMovableClass is that the call useObject(obj1) will trigger the copy constructor as we have seen in one of the last examples. But in order to move it, we would have to pretend to the compiler that obj1 was an rvalue instead of an lvalue so that we can make an efficient move operation instead of an expensive copy*.\n",
    "\n",
    "There is a solution to this problem in C++, which is std::move. This function accepts an lvalue argument and returns it as an rvalue without triggering copy construction. So by passing an object to std::move we can force the compiler to use move semantics, either in the form of move constructor or the move assignment operator:\n",
    "\n",
    "```\n",
    "int main()\n",
    "{\n",
    "    MyMovableClass obj1(100); // constructor\n",
    "\n",
    "    useObject(std::move(obj1));\n",
    "\n",
    "    return 0;\n",
    "}\n",
    "```\n",
    "\n",
    "Nothing much has changed, apart from obj1 being passed to the std::move function. The output would look like the following:\n",
    "\n",
    "```\n",
    "CREATING instance of MyMovableClass at 0x7ffeefbff718 allocated with size = 400 bytes\n",
    "MOVING (c'tor) instance 0x7ffeefbff718 to instance 0x7ffeefbff708\n",
    "using object 0x7ffeefbff708\n",
    "DELETING instance of MyMovableClass at 0x7ffeefbff708\n",
    "DELETING instance of MyMovableClass at 0x7ffeefbff718\n",
    "```\n",
    "* Compiling with ```g++ 09_rule_of_five.cpp -std=c++11 -fno-elide-constructos ```\n",
    "*By using std::move, we were able to pass the ownership* of the resources within obj1 to the function useObject. The local copy obj1 in the argument list was created with the move constructor and thus accepted the ownership transfer from obj1 to obj . Note that after the call to useObject, the instance obj1 has been invalidated by setting its internal handle to null and thus may not be used anymore within the scope of main (even though you could theoretically try to access it, but this would be a really bad idea). "
   ]
  },
  {
   "cell_type": "markdown",
   "metadata": {},
   "source": [
    "# Smart Pointers"
   ]
  },
  {
   "cell_type": "markdown",
   "metadata": {},
   "source": [
    "## RAII: Resource Acquisition is Initialization"
   ]
  },
  {
   "cell_type": "markdown",
   "metadata": {},
   "source": [
    "### Error-prone memory management with new and delete"
   ]
  },
  {
   "cell_type": "markdown",
   "metadata": {},
   "source": [
    "\n",
    "\n",
    "In the previous chapters, we have seen that memory management on the heap using malloc/free or new/delete is extremely powerful, as they allow for a fine-grained control over the precious memory resource. However, the correct use of these concepts requires some degree of skill and experience (and concentration) from the programmer. If they are not handled correctly, bugs will quickly be introduced into the code. A major source of error is that the details around memory management with new/delete are completely left to the programer. In the remainder of this lesson, the pair malloc/free will be omitted for reasons of brevity. However, many of the aspects that hold for new/delete will also apply to malloc/free.\n",
    "\n",
    "Let us take a look at some of the worst problems with new and delete:\n",
    "\n",
    "1. **Proper pairing of new and delete** : Every dynamically allocated object that is created with new must be followed by a manual deallocation at a \"proper\" place in the program. If the programer forgets to call delete (which can happen very quickly) or if it is done at an \"inappropriate\" position, memory leaks will occur which might clog up a large portion of memory.\n",
    "\n",
    "2. **Correct operator pairing** : C++ offers a variety of new/delete operators, especially when dealing with arrays on the heap. A dynamically allocated array initialized with new[] may only be deleted with the operator delete[]. If the wrong operator is used, program behavior will be undefined - which is to be avoided at all cost in C++.\n",
    "\n",
    "3. **Memory ownership** : If a third-party function returns a pointer to a data structure, the only way of knowing who will be responsible for resource deallocation is by looking into either the code or the documentation. If both are not available (as is often the case), there is no way to infer the ownership from the return type. As an example, in the final project of this course, we will use the graphical library wxWidgets to create the user interface of a chatbot application. In wxWidgets, the programmer can create child windows and control elements on the heap using new, but the framework will take care of deletion altogether. If for some reason the programmer does not know this, he or she might call delete and thus interfere with the inner workings of the wxWidgets library.\n",
    "\n"
   ]
  },
  {
   "cell_type": "markdown",
   "metadata": {},
   "source": [
    "### The benefits of smart pointers"
   ]
  },
  {
   "cell_type": "markdown",
   "metadata": {},
   "source": [
    "To put it briefly: *Smart pointers were introduced in C++ to solve the above mentioned problems* by providing a degree of automatic memory management: When a smart pointer is no longer needed (which is the case as soon as it goes out of scope), the memory to which it points is automatically deallocated. When contrasted with smart pointers, the conventional pointers we have seen so far are often termed \"raw pointers\".\n",
    "\n",
    "In essence, *smart pointers are classes that are wrapped around raw pointers*. By *overloading the -> and * operators*, smart pointer objects make sure that the memory to which their internal raw pointer refers to is properly deallocated. This makes it possible to use smart pointers with the same syntax as raw pointers. As soon as a smart pointer goes out of scope, its destructor is called and the block of memory to which the internal raw pointer refers is properly deallocated. This technique of wrapping a management class around a resource has been conceived by Bjarne Stroustroup and is called Resource Acquisition Is Initialization (RAII). Before we continue with smart pointers and their usage let us take a close look at this powerful concept.\n"
   ]
  },
  {
   "cell_type": "markdown",
   "metadata": {},
   "source": [
    "### Resource Acquisition Is Initialization\n"
   ]
  },
  {
   "cell_type": "markdown",
   "metadata": {},
   "source": [
    "\n",
    "The RAII is a widespread programming paradigm, that can be used to protect a resource such as a file stream, a network connection or a block of memory which need proper management.\n"
   ]
  },
  {
   "cell_type": "markdown",
   "metadata": {},
   "source": [
    "### Acquiring and releasing resources\n",
    "\n"
   ]
  },
  {
   "cell_type": "markdown",
   "metadata": {},
   "source": [
    "In most programs of reasonable size, there will be many situations where a certain action at some point will necessitate a proper reaction at another point, such as:\n",
    "\n",
    "1. Allocating memory with new or malloc, which must be matched with a call to delete or free.\n",
    "\n",
    "2. Opening a file or network connection, which must be closed again after the content has been read or written.\n",
    "\n",
    "3. Protecting synchronization primitives such as atomic operations, memory barriers, monitors or critical sections, which must be released to allow other threads to obtain them.\n",
    "\n",
    "The following table gives a brief overview of some resources and their respective allocation and deallocation calls in C++:\n",
    "\n",
    "<img width=\"400\" src=\"figs/resourcesalloc.png\">"
   ]
  },
  {
   "cell_type": "markdown",
   "metadata": {},
   "source": [
    "### The problem of reliable resource release"
   ]
  },
  {
   "cell_type": "markdown",
   "metadata": {},
   "source": [
    "A general usage pattern common to the above examples looks like the following:\n",
    "\n",
    "\n",
    "<img width=\"150\" src=\"figs/reliableresourcerelease.png\">\n",
    "\n",
    "However, there are several problems with this seemingly simple pattern:\n",
    "\n",
    "1. The program might throw an exception during resource use and thus the point of release might never be reached.\n",
    "\n",
    "2. There might be several points where the resource could potentially be released, making it hard for a programmer to keep track of all eventualities.\n",
    "\n",
    "3. We might simply forget to release the resource again.\n"
   ]
  },
  {
   "cell_type": "markdown",
   "metadata": {},
   "source": [
    "### RAII to the rescue"
   ]
  },
  {
   "cell_type": "markdown",
   "metadata": {},
   "source": [
    "The major idea of RAII revolves around object ownership and information hiding: *Allocation and deallocation are hidden within the management class, so a programmer using the class does not have to worry about memory management responsibilities*. If he has not directly allocated a resource, he will not need to directly deallocate it - whoever owns a resource deals with it. In the case of RAII this is the management class around the protected resource. **The overall goal is to have allocation and deallocation (e.g. with new and delete) disappear from the surface level of the code you write**.\n",
    "\n",
    "RAII can be used to leverage - among others - the following advantages:\n",
    "\n",
    "* Use class destructors to perform resource clean-up tasks such as proper memory deallocation when the RAII object gets out of scope\n",
    "* Manage ownership and lifetime of dynamically allocated objects\n",
    "* Implement encapsulation and information hiding due to resource acquisition and release being performed within the same object.\n",
    "\n",
    "In the following, let us look at RAII from the perspective of memory management. There are three major parts to an RAII class:\n",
    "\n",
    "1. A resource is allocated in the constructor of the RAII class\n",
    "2. The resource is deallocated in the destructor\n",
    "3. All instances of the RAII class are allocated on the stack to reliably control the lifetime via the object scope\n",
    "\n"
   ]
  },
  {
   "cell_type": "markdown",
   "metadata": {},
   "source": [
    "### Example"
   ]
  },
  {
   "cell_type": "markdown",
   "metadata": {},
   "source": [
    "* **11_raii_example_1.cpp** and **12_raii_example_2.cpp**\n",
    "\n",
    "Let us now take a look at the code example on the right.\n",
    "\n",
    "At the beginning of the program, an array of double values den is allocated on the stack. Within the loop, a new double is created on the heap using new. Then, the result of a division is printed to the console. At the end of the loop, delete is called to properly deallocate the heap memory to which en is pointing. Even though this code is working as it is supposed to, it is very easy to forget to call delete at the end. Let us therefore use the principles of RAII to create a management class that calls delete automatically:\n",
    "\n",
    "```\n",
    "class MyInt\n",
    "{\n",
    "    int *_p; // pointer to heap data\n",
    "public:\n",
    "    MyInt(int *p = NULL) { _p = p; }\n",
    "    ~MyInt() \n",
    "    { \n",
    "        std::cout << \"resource \" << *_p << \" deallocated\" << std::endl;\n",
    "        delete _p; \n",
    "    }\n",
    "    int &operator*() { return *_p; } // // overload dereferencing operator\n",
    "};\n",
    "```\n",
    "\n",
    "In this example, the constructor of class MyInt takes a pointer to a memory resource. When the destructor of a MyInt object is called, the resource is deleted from memory - which makes MyInt an RAII memory management class. Also, the * operator is overloaded which enables us to dereference MyInt objects in the same manner as with raw pointers. Let us therefore slightly alter our code example from above to see how we can properly use this new construct:\n",
    "\n",
    "```\n",
    "int main()\n",
    "{\n",
    "    double den[] = {1.0, 2.0, 3.0, 4.0, 5.0};\n",
    "    for (size_t I = 0; I < 5; ++i)\n",
    "    {\n",
    "        // allocate the resource on the stack\n",
    "        MyInt en(new int(i));\n",
    "\n",
    "        // use the resource\n",
    "        std::cout << *en << \"/\" << den[i] << \" = \" << *en / den[i] << std::endl;\n",
    "    }\n",
    "\n",
    "    return 0;\n",
    "}\n",
    "```\n",
    "\n",
    "Let us break down the resource allocation part in two steps:\n",
    "\n",
    "* The part new int(i) creates a new block of memory on the heap and initializes it with the value of i. The returned result is the address of the block of memory.\n",
    "* The part MyInt en(…)calls the constructor of class MyInt, passing the address of a valid memory block as a parameter.\n",
    "\n",
    "After creating an object of class MyInt on the stack, which, internally, created an integer on the heap, we can use the dereference operator in the same manner as before to retrieve the value to which the internal raw pointer is pointing. Because the MyInt object en lives on the stack, it is automatically deallocated after each loop cycle - which automatically calls the destructor to release the heap memory. The following console output verifies this:\n",
    "\n",
    "    0/1 = 0\n",
    "    resource 0 deallocated\n",
    "    1/2 = 0.5\n",
    "    resource 1 deallocated\n",
    "    2/3 = 0.666667\n",
    "    resource 2 deallocated\n",
    "    3/4 = 0.75\n",
    "    resource 3 deallocated\n",
    "    4/5 = 0.8\n",
    "    resource 4 deallocated\n",
    "\n",
    "We have thus successfully used the RAII idiom to create a memory management class that spares us from thinking about calling delete. By creating the MyInt object on the stack, we ensure that the deallocation occurs as soon as the object goes out of scope. "
   ]
  },
  {
   "cell_type": "markdown",
   "metadata": {},
   "source": [
    "#### Wrong example: What would happend?"
   ]
  },
  {
   "cell_type": "markdown",
   "metadata": {},
   "source": [
    "```\n",
    "int main()\n",
    "{\n",
    "    double den[] = {1.0, 2.0, 3.0, 4.0, 5.0};\n",
    "    for (size_t I = 0; I < 5; ++i)\n",
    "    {\n",
    "        // allocate the resource on the heap\n",
    "        MyInt *en = new MyInt(new int(i));\n",
    "\n",
    "        // use the resource\n",
    "        std::cout << **en << \"/\" << den[i] << \" = \" << **en / den[i] << std::endl;\n",
    "    }\n",
    "    return 0;\n",
    "}\n",
    "```\n"
   ]
  },
  {
   "cell_type": "markdown",
   "metadata": {},
   "source": [
    "ANSWER: The destructor of MyInt would never be called, hence causing a memory leak with each loop iteration."
   ]
  },
  {
   "cell_type": "markdown",
   "metadata": {},
   "source": [
    "## Smart Pointers"
   ]
  },
  {
   "cell_type": "markdown",
   "metadata": {},
   "source": [
    "### RAII and smart pointers"
   ]
  },
  {
   "cell_type": "markdown",
   "metadata": {},
   "source": [
    "the last section, we have discussed the powerful RAII idiom, which ***reduces the risk of improperly managed resources***. Applied to the concept of memory management, RAII enables us to encapsulate new and delete calls within a class and thus present the programmer with a clean interface to the resource he intends to use. Since C++11, there exists a language feature called smart pointers, which builds on the concept of RAII and - without exaggeration - revolutionizes the way we use resources on the heap. Let’s take a look."
   ]
  },
  {
   "cell_type": "markdown",
   "metadata": {},
   "source": [
    "### Smart pointer overview"
   ]
  },
  {
   "cell_type": "markdown",
   "metadata": {},
   "source": [
    "\n",
    "\n",
    "Since C++11, the standard library includes smart pointers, which help to ensure that programs are free of memory leaks while also remaining exception-safe. With smart pointers, resource acquisition occurs at the same time that the object is initialized (when instantiated with ```make_shared``` or ```make_unique```), so that all resources for the object are created and initialized in a single line of code.\n",
    "\n",
    "In modern C++, raw pointers managed with new and delete should only be used in small blocks of code with limited scope, where performance is critical (such as with placement new) and ownership rights of the memory resource are clear. We will look at some guidelines on where to use which pointer later.\n",
    "\n",
    "C++11 has introduced three types of smart pointers, which are defined in the header of the standard library:\n",
    "\n",
    "1. The *unique pointer* ```std::unique_ptr``` is a smart pointer which exclusively owns a dynamically allocated resource on the heap. There must not be a second unique pointer to the same resource.\n",
    "\n",
    "2. The *shared pointer* ```std::shared_ptr``` points to a heap resource but does not explicitly own it. There may even be several shared pointers to the same resource, each of which will increase an internal reference count. As soon as this count reaches zero, the resource will automatically be deallocated.\n",
    "\n",
    "3. The *weak pointer* ```std::weak_ptr``` behaves similar to the shared pointer but does not increase the reference counter.\n",
    "\n",
    "Prior to C++11, there was a concept called ```std::auto_ptr```, which *tried to realize a similar idea*. However, this concept can now be safely considered as deprecated and should not be used anymore.\n",
    "\n",
    "Let us now look at each of the three smart pointer types in detail.\n"
   ]
  },
  {
   "cell_type": "markdown",
   "metadata": {},
   "source": [
    "### The Unique pointer"
   ]
  },
  {
   "cell_type": "markdown",
   "metadata": {},
   "source": [
    "A unique pointer is the exclusive owner of the memory resource it represents. There must not be a second unique pointer to the same memory resource, otherwise there will be a compiler error. As soon as the unique pointer goes out of scope, the memory resource is deallocated again. Unique pointers are *useful when working with a temporary heap resource* that is no longer needed once it goes out of scope.\n",
    "\n",
    "The following diagram illustrates the basic idea of a unique pointer:\n",
    "\n",
    "<img width=\"400\" src=\"figs/unique_pointer.png\">\n",
    "\n",
    "In the example, a resource in memory is referenced by a unique pointer instance sourcePtr. Then, the resource is reassigned to another unique pointer instance destPtr using std::move. The resource is now owned by destPtr while sourcePtr can still be used but does not manage a resource anymore.\n",
    "\n",
    "A unique pointer is constructed using the following syntax:\n",
    "\n",
    "```std::unique_ptr<Type> p(new Type);```\n",
    "\n",
    "``` std::unique_ptr<Type> MyUniquePointer = make_unique<MyObject>(); ```"
   ]
  },
  {
   "cell_type": "markdown",
   "metadata": {},
   "source": [
    "### Unique pointer comparison with Raw pointer"
   ]
  },
  {
   "cell_type": "markdown",
   "metadata": {},
   "source": [
    "```\n",
    "#include <memory>\n",
    "\n",
    "void RawPointer()\n",
    "{\n",
    "    int *raw = new int; // create a raw pointer on the heap\n",
    "    *raw = 1; // assign a value\n",
    "    delete raw; // delete the resource again\n",
    "}\n",
    "\n",
    "void UniquePointer()\n",
    "{\n",
    "    std::unique_ptr<int> unique(new int); // create a unique pointer on the stack\n",
    "    *unique = 2; // assign a value\n",
    "    // delete is not neccessary\n",
    "}\n",
    "```"
   ]
  },
  {
   "cell_type": "markdown",
   "metadata": {},
   "source": [
    "The function ```RawPointer``` contains the familiar steps of (1) allocating memory on the heap with new and storing the address in a pointer variable, (2) assigning a value to the memory block using the dereferencing operator * and (3) finally deleting the resource on the heap. As we already know, forgetting to call delete will result in a memory leak.\n",
    "\n",
    "The function ```UniquePointer``` shows how to achieve the same goal using a smart pointer from the standard library. As can be seen, *a smart pointer is a class template that is declared on the stack and then initialized by a raw pointer* (returned by new ) to a heap-allocated object. The smart pointer is now responsible for deleting the memory that the raw pointer specifies - which happens as soon as the smart pointer goes out of scope. Note that smart pointers always need to be declared on the stack, otherwise the scoping mechanism would not work.\n",
    "\n",
    "The smart pointer destructor contains the call to delete, and because the smart pointer is declared on the stack, its destructor is invoked when the smart pointer goes out of scope, even if an exception is thrown."
   ]
  },
  {
   "cell_type": "markdown",
   "metadata": {},
   "source": [
    "### Unique pointer example: (11_unique_pointer_2.cpp)"
   ]
  },
  {
   "cell_type": "markdown",
   "metadata": {},
   "source": [
    "In the example now on the right, we will construct a unique pointer to a custom class. Also, we **will see how the standard ```->``` and * operators can be used** to access member functions of the managed object, just as we would with a raw pointer:\n",
    "\n",
    "Note that the custom class MyClass has two constructors, one without arguments and one with a string to be passed, which initializes a member variable _text that lives on the stack. Also, once an object of this class gets destroyed, a message to the console is printed, along with the value of _text. In main, two unique pointers are created with the address of a MyClass object on the heap as arguments. With myClass2, we can see that constructor arguments can be passed just as we would with raw pointers. After both pointers have been created, we can use the -> operator to access members of the class, such as calling the function setText. From looking at the function call alone you would not be able to tell that myClass1 is in fact a smart pointer. Also, we can use the dereference operator * to access the value of myClass1 and myClass2 and assign the one to the other. Finally, the . operator gives us access to proprietary functions of the smart pointer, such as retrieving the internal raw pointer with get().\n",
    "\n",
    "Obviously, both pointers have different addresses on the stack, even after copying the contents from myClass2 to myClass1. As can be seen from the last two lines of the output, the destructor of both objects gets called automatically at the end of the program and - as expected - the value of the internal string is identical due to the copy operation. "
   ]
  },
  {
   "cell_type": "markdown",
   "metadata": {},
   "source": [
    "### Unique pointer summary"
   ]
  },
  {
   "cell_type": "markdown",
   "metadata": {},
   "source": [
    "Summing up, the unique pointer allows a single owner of the underlying internal raw pointer. *Unique pointers should be the default choice* unless you know for certain that sharing is required at a later stage. We have already seen how to transfer ownership of a resource using the Rule of Five and move semantics. Internally, the unique pointer uses this very concept along with RAII to encapsulate a resource (the raw pointer) and transfer it between pointer objects when either the move assignment operator or the move constructor are called. Also, a key feature of a unique pointer, which makes it so well-suited as a return type for many functions, is the possibility to convert it to a shared pointer. We will have a deeper look into this in the section on ownership transfer.\n"
   ]
  },
  {
   "cell_type": "markdown",
   "metadata": {},
   "source": [
    "### The Shared Pointer"
   ]
  },
  {
   "cell_type": "markdown",
   "metadata": {},
   "source": [
    "Just as the unique pointer, a shared pointer owns the resource it points to. The main difference between the two smart pointers is that shared pointers keep a reference counter on how many of them point to the same memory resource. Each time a shared pointer goes out of scope, the counter is decreased. When it reaches zero (i.e. when the last shared pointer to the resource is about to vanish). the memory is properly deallocated. This smart pointer type is useful for cases where you require access to a memory location on the heap in multiple parts of your program and you want to make sure that whoever owns a shared pointer to the memory can rely on the fact that it will be accessible throughout the lifetime of that pointer.\n",
    "\n",
    "The following diagram illustrates the basic idea of a shared pointer: \n",
    "\n",
    "<img width=\"400\" src=\"figs/shared_pointer.png\">\n",
    "\n",
    "\n",
    "Example: ```11_shared_pointer_1.cpp```"
   ]
  },
  {
   "cell_type": "markdown",
   "metadata": {},
   "source": [
    "We can see that shared pointers are constructed just as unique pointers are. Also, we can access the internal reference count by using the method use_count(). In the inner block, a second shared pointer shared2 is created and shared1 is assigned to it. In the copy constructor, the internal resource pointer is copied to shared2 and the resource counter is incremented in both shared1 and shared2. Let us take a look at the output of the code:\n",
    "\n",
    "    shared pointer count = 1\n",
    "    shared pointer count = 2\n",
    "    shared pointer count = 1\n",
    "\n",
    "You may have noticed that the lifetime of shared2 is limited to the scope denoted by the enclosing curly brackets. Thus, once this scope is left and shared2 is destroyed, the reference counter in shared1 is decremented by one - which is reflected in the three console outputs given above.\n"
   ]
  },
  {
   "cell_type": "markdown",
   "metadata": {},
   "source": [
    "### Redirecting shared pointer (11_shared_pointer_2.cpp)"
   ]
  },
  {
   "cell_type": "markdown",
   "metadata": {},
   "source": [
    "A shared pointer can also be redirected by using the ```reset()``` function. If the resource which a shared pointer manages is no longer needed in the current scope, the pointer can be reset to manage a difference resource as illustrated in the example on the right.\n",
    "\n",
    "Note that in the example, the destructor of MyClass prints a string to the console when called. The output of the program looks like the following:\n",
    "\n",
    "    shared pointer count = 1\n",
    "    Destructor of MyClass called\n",
    "    shared pointer count = 1\n",
    "    Destructor of MyClass called\n",
    "\n",
    "After creation, the program prints 1 as the reference count of shared. Then, the reset function is called with a new instance of MyClass as an argument. This causes the destructor of the first MyClass instance to be called, hence the console output. As can be seen, the reference count of the shared pointer is still at 1. Then, at the end of the program, the destructor of the second MyClass object is called once the path of execution leaves the scope of main. "
   ]
  },
  {
   "cell_type": "markdown",
   "metadata": {},
   "source": [
    "### Possible problems of Shared pointers (11_shared_pointer_3.cpp)"
   ]
  },
  {
   "cell_type": "markdown",
   "metadata": {},
   "source": [
    "Despite all the advantages of shared pointers, it is still possible to have problems with memory management though. Consider the scenario on the right.\n",
    "\n",
    "In main, two shared pointers myClass1 and myClass2 which are managing objects of type MyClass are allocated on the stack. As can be seen from the console output, both smart pointers are automatically deallocated when the scope of main ends:\n",
    "\n",
    "    Destructor of MyClass called\n",
    "    Destructor of MyClass called\n",
    "\n",
    "When the following two lines are added to main, the result is quite different:\n",
    "\n",
    "    myClass1->_member = myClass2;\n",
    "    myClass2->_member = myClass1;\n",
    "\n",
    "These two lines produce a ***circular reference***. When myClass1 goes out of scope at the end of main, its destructor can’t clean up memory as there is still a reference count of 1 in the smart pointer, which is caused by the shared pointer _member in myClass2. The same holds true for myClass2, which can not be properly deleted as there is still a shared pointer to it in myClass1. This deadlock situation prevents the destructors from being called and causes a memory leak. When we use *Valgrind* on this program, we get the following summary:\n",
    "\n",
    "    ==20360== LEAK SUMMARY:\n",
    "    ==20360==    definitely lost: 16 bytes in 1 blocks\n",
    "    ==20360==    indirectly lost: 80 bytes in 3 blocks\n",
    "    ==20360==      possibly lost: 72 bytes in 3 blocks\n",
    "    ==20360==    still reachable: 200 bytes in 6 blocks\n",
    "    ==20360==         suppressed: 18,985 bytes in 160 blocks\n",
    "\n",
    "As can be seen, the memory leak is clearly visible with 16 bytes being marked as \"definitely lost\". To prevent such circular references, there is a third smart pointer, which we will look at in the following.\n",
    "\n",
    "* Compiling: \n",
    "```\n",
    "    g++ 11_shared_pointer_3.cpp\n",
    "    valgrind --leak-check=full --show-leak-kinds=all --track-origins=yes --log-file=./valgrind-out.txt ./a.out\n",
    "    cat valgrind-out.txt\n",
    "```"
   ]
  },
  {
   "cell_type": "markdown",
   "metadata": {},
   "source": [
    "### The Weak Pointer"
   ]
  },
  {
   "cell_type": "markdown",
   "metadata": {},
   "source": [
    "Similar to shared pointers, there can be multiple weak pointers to the same resource. The main difference though is that *weak pointers do not increase the reference count*. Weak pointers hold a non-owning reference to an object that is managed by another shared pointer. \n",
    "\n",
    "The following rule applies to weak pointers: You can only create weak pointers out of shared pointers or out of another weak pointer. The code on the right shows a few examples of how to use and how not to use weak pointers.\n",
    "\n",
    "The output looks as follows: \n",
    "```\n",
    "shared pointer count = 1\n",
    "shared pointer count = 1\n",
    "```\n",
    "\n",
    "First, a shared pointer to an integer is created with a reference count of 1 after creation. Then, two weak pointers to the integer resource are created, the first directly from the shared pointer and the second indirectly from the first weak pointer. As can be seen from the output, neither of both weak pointers increased the reference count. At the end of main, the attempt to directly create a weak pointer to an integer resource would lead to a compile error. \n",
    "\n",
    "```\n",
    "11_weak_pointer_1.cpp\n",
    "```"
   ]
  },
  {
   "cell_type": "markdown",
   "metadata": {},
   "source": [
    "As we have seen with raw pointers, you can never be sure wether the memory resource to which the pointer refers is still valid. With a weak pointer, even though this type does not prevent an object from being deleted, the validity of its resource can be checked. The code on the right illustrates how to use the `expired()` function to do this.\n",
    "\n",
    "Thus, with smart pointers, there will always be a managing instance which is responsible for the proper allocation and deallocation of a resource. In some cases it might be necessary to convert from one smart pointer type to another. Let us take a look at the set of possible conversions in the following. \n",
    "\n",
    "`11_weak_pointer_2.cpp`"
   ]
  },
  {
   "cell_type": "markdown",
   "metadata": {},
   "source": [
    "### Converting between smart pointers (11_pointer_conversion.cpp)"
   ]
  },
  {
   "cell_type": "markdown",
   "metadata": {},
   "source": [
    "The example on the right illustrates how to convert between the different pointer types.\n",
    "\n",
    "In (1), a conversion from **unique pointer to shared pointer** is performed. You can see that this can be achieved by using `std::move`, which calls the move assignment operator on `sharedPtr1` and steals the resource from `uniquePtr` while at the same time invalidating its resource handle on the heap-allocated integer.\n",
    "\n",
    "In (2), you can see how to convert from **weak to shared pointer**. Imagine that you have been passed a weak pointer to a memory object which you want to work on. To avoid invalid memory access, you want to make sure that the object will not be deallocated before your work on it has been finished. To do this, you can convert a weak pointer to a shared pointer by calling the `lock()` function on the weak pointer.\n",
    "\n",
    "In (3), a **raw pointer is extracted from a shared pointer**. However, this operation does not decrease the reference count within `sharedPtr2`. This means that calling `delete` on `rawPtr` in the last line before main returns will generate a runtime error as a resource is trying to be deleted which is managed by `sharedPtr2` and has already been removed. The output of the program when compiled with g++ thus is: \n",
    "`malloc: *** error for object 0x1003001f0: pointer being freed was not allocated.`\n",
    "\n",
    "Note that there are **no options for converting away from a shared pointer**. Once you have created a shared pointer, you must stick to it (or a copy of it) for the remainder of your program. "
   ]
  },
  {
   "cell_type": "markdown",
   "metadata": {},
   "source": [
    "### When to use raw pointers and smart pointers?"
   ]
  },
  {
   "cell_type": "markdown",
   "metadata": {},
   "source": [
    "\n",
    "As a general rule of thumb with modern C++, smart pointers should be used often. They will make your code safer as you no longer need to think (much) about the proper allocation and deallocation of memory. As a consequence, there will be much fewer memory leaks caused by dangling pointers or crashes from accessing invalidated memory blocks. \n",
    "\n",
    "When using raw pointers on the other hand, your code might be susceptible to the following bugs: \n",
    "1. Memory leaks\n",
    "2. Freeing memory that shouldn’t be freed\n",
    "3. Freeing memory incorrectly\n",
    "4. Using memory that has not yet been allocated\n",
    "5. Thinking that memory is still allocated after being freed\n",
    "\n",
    "With all the advantages of smart pointers in modern C++, one could easily assume that it would be best to completely ban the use of new and delete from your code. However, while this is in many cases possible, it is not always advisable as well. Let us take a look at the [C++ core guidelines](http://isocpp.github.io/CppCoreGuidelines/CppCoreGuidelines#main), which has several [**rules for explicit memory allocation and deallocation**](http://isocpp.github.io/CppCoreGuidelines/CppCoreGuidelines#r-resource-management). In the scope of this course, we will briefly discuss three of them:  \n",
    "\n",
    "1. **R. 10: Avoid malloc and free** \n",
    "While the calls `(MyClass*)malloc( sizeof(MyClass) )` and `new MyClass` both allocate a block of memory on the heap in a perfectly valid manner, only `new` will also call the constructor of the class and `free` the destructor. To reduce the risk of undefined behavior, `malloc` and `free` should thus be avoided.\n",
    "\n",
    "2. **R. 11: Avoid calling new and delete explicitly**\n",
    "Programmers have to make sure that every call of `new` is paired with the appropriate `delete` at the correct position so that no memory leak or invalid memory access occur. The emphasis here lies in the word \"explicitly\" as opposed to implicitly, such as with smart pointers or containers in the standard template library. \n",
    "\n",
    "3. **R. 12: Immediately give the result of an explicit resource allocation to a manager object**\n",
    "It is recommended to make use of manager objects for controlling resources such as files, memory or network connections to mitigate the risk of memory leaks. This is the core idea of smart pointers as discussed at length in this section.\n",
    "\n",
    "Summarizing, raw pointers created with `new` and `delete` allow for a high degree of flexibility and control over the managed memory as we have seen in earlier lessons of this course. To mitigate their proneness to errors, the following additional recommendations can be given: \n",
    "\n",
    "- A call to `new` should not be located too far away from the corresponding `delete`. It is bad style to stretch you `new` / `delete` pairs throughout your program with references criss-crossing your entire code. \n",
    "\n",
    "- Calls to  `new`  and  `delete` should always be hidden from third parties so that they must  not concern themselves with managing memory manually (which is similar to R. 12). "
   ]
  },
  {
   "cell_type": "markdown",
   "metadata": {},
   "source": [
    "In addition to the above recommendations, the C++ core guidelines also contain a total of 13 rules for the [**recommended use of smart pointers**](http://isocpp.github.io/CppCoreGuidelines/CppCoreGuidelines#rsmart-smart-pointers). In the following, we will discuss a selection of these: \n",
    "\n",
    "1. **R. 20 : Use unique_ptr or shared_ptr to represent ownership**\n",
    "\n",
    "2. **R. 21 : Prefer unique_ptr over std::shared_ptr unless you need to share ownership**\n",
    "\n",
    "Both pointer types express ownership and responsibilities (R. 20). A `unique_ptr` is an exclusive owner of the managed resource; therefore, it cannot be copied, only moved. In contrast, a `shared_ptr` shares the managed resource with others. As described above, this mechanism works by incrementing and decrementing a common reference counter. The resulting administration overhead makes `shared_ptr` more expensive than `unique_ptr`. For this reason `unique_ptr` should always be the first choice (R. 21). \n",
    "\n",
    "4. **R. 22 : Use make_shared() to make shared_ptr**\n",
    "\n",
    "5. **R. 23 : Use make_unique() to make std::unique_ptr**\n",
    "\n",
    "The increased management overhead compared to raw pointers becomes in particular true if a `shared_ptr` is used. Creating a `shared_ptr` requires (1) the allocation of the resource using new and (2) the allocation and management of the reference counter. Using the factory function `make_shared` is a one-step operation with lower overhead and should thus always be preferred. (R.22). This also holds for `unique_ptr` (R.23), although the performance gain in this case is minimal (if existent at all). \n",
    "\n",
    "But there is an additional reason for using the `make_...` factory functions: Creating a smart pointer in a single step removes the risk of a memory leak. Imagine a scenario where an exception happens in the constructor of the resource. In such a case, the object would not be handled properly and its destructor would never be called - even if the managing object goes out of scope. Therefore, `make_shared` and `make_unique` should always be preferred.  Note that `make_unique` is only available with compilers that support at least the C++14 standard.\n",
    "\n",
    "3. **R. 24 : Use weak_ptr to break cycles of shared_ptr**\n",
    "\n",
    "We have seen that weak pointers provide a way to break a deadlock caused by two owning references which are cyclicly referring to each other. With weak pointers, a resource can be safely deallocated as the reference counter is not increased. \n",
    "\n",
    "The remaining set of guideline rules referring to smart pointers are mostly concerning the question of how to pass a smart pointer to a function. We will discuss this question in the next concept."
   ]
  },
  {
   "cell_type": "markdown",
   "metadata": {},
   "source": [
    "## Transfering Ownership"
   ]
  },
  {
   "cell_type": "markdown",
   "metadata": {},
   "source": [
    "### Passing smart pointers to functions"
   ]
  },
  {
   "cell_type": "markdown",
   "metadata": {},
   "source": [
    "Let us consider the following recommendation of the C++ guidelines on smart pointers: \n",
    "\n",
    "**R. 30 : Take smart pointers as parameters only to explicitly express lifetime semantics**\n",
    "\n",
    "The core idea behind this rule is the notion that functions that only manipulate objects without affecting its lifetime in any way should not be concerned with a particular kind of smart pointer. A function that does not manipulate the lifetime or ownership should use raw pointers or references instead.  A function should take smart pointers as parameter only if it examines or manipulates the smart pointer itself. As we have seen, smart pointers are classes that provide several features such as counting the references of a `shared_ptr` or increasing them by making a copy. Also, data can be moved from one `unique_ptr` to another and thus transferring the ownership. A particular function should accept smart pointers only if it expects to do something of this sort. If a function just needs to operate on the underlying object without the need of using any smart pointer property, it should accept the objects via raw pointers or references instead. \n",
    "\n",
    "The following examples are **pass-by-value types that lend the ownership** of the underlying object: \n",
    "\n",
    "1. `void f(std::unique_ptr<MyObject> ptr)`\n",
    "\n",
    "2. `void f(std::shared_ptr<MyObject> ptr)`\n",
    "\n",
    "3. `void f(std::weak_ptr<MyObject> ptr)`\n",
    "\n",
    "Passing smart pointers by value means to lend their ownership to a particular function `f`.  In the above examples 1-3, all pointers are passed by value, i.e. the function `f` has a private copy of it which it can (and should) modify. Depending on the type of smart pointer, a tailored strategy needs to be used. Before going into details, let us take a look at the underlying rule from the C++ guidelines (where \"widget\" can be understood as \"class\"). "
   ]
  },
  {
   "cell_type": "markdown",
   "metadata": {},
   "source": [
    "### R: Take a unique_ptr parameter to express that a function assumes ownership of a widget. (12_r_32.cpp)"
   ]
  },
  {
   "cell_type": "markdown",
   "metadata": {},
   "source": [
    "The basic idea of a `unique_ptr` is that there exists only a single instance of it. This is why it can’t be copied to a local function but needs to be moved instead with the function `std::move`. The code example on the right illustrates the principle of transferring the object managed by the unique pointer `uniquePtr` into a function `f`.\n",
    "    \n",
    "The class MyClass has a private object `_member` and a public function `printVal()` which prints the address of the managed object (`this`) as well as the member value to the console. In main, an instance of `MyClass` is created by the factory function `make_unique()` and assigned to a unique pointer instance `uniquePtr` for management. Then, the pointer instance is moved into the function `f`  using move semantics. As we have not overloaded the move constructor or move assignment operator in `MyClass`, the compiler is using the default implementation. In `f`, the address of the copied / moved unique pointer `ptr`  is printed and the function `printVal()` is called on it.  When the path of execution returns to `main()`, the program checks for the validity of `uniquePtr` and, if valid, calls the function `printVal()` on it again. Here is the console output of the program: \n",
    "\n",
    "```\n",
    "unique_ptr 0x7ffeefbff710, managed object 0x100300060 with val = 23\n",
    "\n",
    "unique_ptr 0x7ffeefbff6f0, managed object 0x100300060 with val = 23\n",
    "```\n",
    "\n",
    "The output nicely illustrates the copy / move operation. Note that the address of unique_ptr differs between the two calls while the address of the managed object as well as of the value are identical. This is consistent with the inner workings of the move constructor, which we overloaded in a previous section. The copy-by-value behavior of `f()` creates a new instance of the unique pointer but then switches the address of the managed `MyClass` instance from source to destination. After the move is complete, we can still use the variable `uniquePtr` in main but it now is only an empty shell which does not contain an object to manage. "
   ]
  },
  {
   "cell_type": "markdown",
   "metadata": {},
   "source": [
    "### R.34: Take a shared_ptr parameter to express that a function is part owner (12_r_34.cpp)"
   ]
  },
  {
   "cell_type": "markdown",
   "metadata": {},
   "source": [
    "When passing a shared pointer by value, move semantics are not needed. As with unique pointers, there is an underlying rule for transferring the ownership of a shared pointer to a function: \n",
    "\n",
    "**R.34: Take a shared_ptr<widget> parameter to express that a function is part owner**\n",
    "\n",
    "Consider the example on the right. The main difference in this example is that the `MyClass` instance is managed by a shared pointer. After creation in `main()`, the address of the pointer object as well as the current reference count are printed to the console. Then, `sharedPtr` is passed to the function `f()` by value, i.e. a copy is made. After returning to main, pointer address and reference counter are printed again. Here is what the output of the program looks like: \n",
    "```\n",
    "shared_ptr (ref_cnt= 1) 0x7ffeefbff708, managed object 0x100300208 with val = 23\n",
    "\n",
    "shared_ptr (ref_cnt= 2) 0x7ffeefbff6e0, managed object 0x100300208 with val = 23\n",
    "\n",
    "shared_ptr (ref_cnt= 1) 0x7ffeefbff708, managed object 0x100300208 with val = 23\n",
    "```\n",
    "\n",
    "Throughout the program, the address of the managed object does not change. When passed to  `f()` , the reference count changes to 2. After the function returns and the local `shared_ptr` is destroyed, the reference count changes back to 1. In summary, move semantics are usually not needed when using shared pointers. Shared pointers can be passed by value safely and the main thing to remember is that with each pass, the internal reference counter is increased while the managed object stays the same. \n",
    "\n",
    "Without giving an example here, the `weak_ptr` can be passed by value as well, just like the shared pointer. The only difference is that the pass does not increase the reference counter. "
   ]
  },
  {
   "cell_type": "markdown",
   "metadata": {},
   "source": [
    "### R.33 & R.35"
   ]
  },
  {
   "cell_type": "markdown",
   "metadata": {},
   "source": [
    "With the above examples, pass-by-value has been used to lend the ownership of smart pointers. Now let us consider the following additional rules from the C++ guidelines on smart pointers: \n",
    "\n",
    "**R.33: Take a unique_ptr<widget>& parameter to express that a function reseats the widget** \n",
    "\n",
    "and\n",
    "\n",
    "**R.35: Take a shared_ptr<widget>& parameter to express that a function might reseat the shared pointer**\n",
    "\n",
    "Both rules recommend passing-by-reference, when the function is supposed to modify the ownership of an existing smart pointer and not a copy. We pass a non-const reference to a `unique_ptr` to a function if it might modify it in any way, including deletion and reassignment to a different resource. \n",
    "\n",
    "Passing a `unique_ptr` as `const` is not useful as the function will not be able to do anything with it: Unique pointers are all about proprietary ownership and as soon as the pointer is passed, the function will assume ownership. But without the right to modify the pointer, the options are very limited. \n",
    "\n",
    "A `shared_ptr` can either be passed as const or non-const reference. The const should be used when you want to express that the function will only read from the pointer or it might create a local copy and share ownership. \n",
    "\n",
    "Lastly, we will take a look at **passing raw pointers** and references. The general rule of thumb is that we can use a simple raw pointer (which can be null) or a plain reference (which can ~not~ be null), when the function we are passing will *only inspect the managed object without modifying the smart pointer*. The internal (raw) pointer to the object can be retrieved using the `get()` member function. Also, by providing  access to the raw pointer,  you can use the smart pointer to manage memory in your own code and pass the raw pointer to code that does not support smart pointers. \n",
    "\n",
    "When using raw pointers retrieved from the `get()` function, you should take special care not to delete them or to create new smart pointers from them. If you did so, the ownership rules applying to the resource would be severely violated. When passing a raw pointer to a function or when returning it (see next section), raw pointers should always be considered as owned by the smart pointer from which the raw reference to the resource has been obtained. "
   ]
  },
  {
   "cell_type": "markdown",
   "metadata": {},
   "source": [
    "### Returning smart pointers from functions"
   ]
  },
  {
   "cell_type": "markdown",
   "metadata": {},
   "source": [
    "With return values, the same logic that we have used for passing smart pointers to functions applies: Return a smart pointer, both unique or shared, if the caller needs to manipulate or access the pointer properties. In case the caller just needs the underlying object, a raw pointer should be returned. \n",
    "\n",
    "Smart pointers should always be returned by value. This is not only simpler but also has the following advantages: \n",
    "\n",
    "1. The overhead usually associated with return-by-value due to the expensive copying process is significantly mitigated by the built-in move semantics of smart pointers. They only hold a reference to the managed object, which is quickly switched from destination to source during the move process. \n",
    "\n",
    "2. Since C++17, the compiler used *Return Value Optimization* (RVO) to avoid the copy usually associated with return-by-value. This technique, together with *copy-elision*, is able to optimize even move semantics and smart pointers (not in call cases though, they are still an essential part of modern C++). \n",
    "\n",
    "3. When returning a *shared_ptr* by value, the internal reference counter is guaranteed to be properly incremented. This is not the case when returning by pointer or by reference. \n",
    "\n",
    "The topic of smart pointers is a complex one. In this course, we have covered many basics and some of the more advanced concepts. However, there are many more aspects to consider and features to use when integrating smart pointers into your code. The full set of smart pointer rules in the C++ guidelines is a good start to dig deeper into one of the most powerful features of modern C++."
   ]
  }
 ],
 "metadata": {
  "kernelspec": {
   "display_name": "Python 3",
   "language": "python",
   "name": "python3"
  },
  "language_info": {
   "codemirror_mode": {
    "name": "ipython",
    "version": 3
   },
   "file_extension": ".py",
   "mimetype": "text/x-python",
   "name": "python",
   "nbconvert_exporter": "python",
   "pygments_lexer": "ipython3",
   "version": "3.6.6-final"
  }
 },
 "nbformat": 4,
 "nbformat_minor": 2
}