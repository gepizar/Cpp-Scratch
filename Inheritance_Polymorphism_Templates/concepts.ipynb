{
 "cells": [
  {
   "cell_type": "markdown",
   "metadata": {},
   "source": [
    "# Inheritance"
   ]
  },
  {
   "cell_type": "markdown",
   "metadata": {},
   "source": [
    "In our everyday life, we tend to divide things into groups, based on their shared characteristics. Here are some groups that you have probably used yourself: electronics, tools, vehicles, or plants.\n",
    "\n",
    "Sometimes these groups have hierarchies. For example, computers and smartphones are both types of electronics, but computers and smartphones are also groups in and of themselves. You can imagine a tree with \"electronics\" at the top, and \"computers\" and \"smartphones\" each as children of the \"electronics\" node."
   ]
  },
  {
   "cell_type": "markdown",
   "metadata": {},
   "source": [
    "Object-oriented programming uses the same principles! For instance, imagine a Vehicle class:"
   ]
  },
  {
   "cell_type": "markdown",
   "metadata": {},
   "source": [
    "``` \n",
    "class Vehicle {\n",
    "public:\n",
    "  int wheels = 0;\n",
    "  string color = \"blue\";\n",
    "\n",
    "  void Print() const\n",
    "  {\n",
    "    std::cout << \"This \" << color << \" vehicle has \" << wheels << \" wheels!\\n\";\n",
    "  }\n",
    "};\n",
    "\n",
    "class Car : public Vehicle {\n",
    "public:\n",
    "  bool sunroof = false;\n",
    "};\n",
    "\n",
    "class Bicycle : public Vehicle {\n",
    "public:\n",
    "  bool kickstand = true;\n",
    "};\n",
    "\n",
    "``` "
   ]
  },
  {
   "cell_type": "markdown",
   "metadata": {},
   "source": [
    "Example code: 01_inheritance_ex1.cpp"
   ]
  },
  {
   "cell_type": "markdown",
   "metadata": {},
   "source": [
    "## Access Specifiers"
   ]
  },
  {
   "cell_type": "markdown",
   "metadata": {},
   "source": [
    "Just as access specifiers (i.e. public, protected, and private) define which class members users can access, the same access modifiers also define which class members users of a derived classes can access."
   ]
  },
  {
   "cell_type": "markdown",
   "metadata": {},
   "source": [
    "\n",
    "\n",
    "    Public inheritance: the public and protected members of the base class listed after the specifier keep their member access in the derived class\n",
    "\n",
    "    Protected inheritance: the public and protected members of the base class listed after the specifier are protected members of the derived class\n",
    "\n",
    "    Private inheritance: the public and protected members of the base class listed after the specifier are private members of the derived class\n",
    "\n",
    "    Source: C++ reference\n"
   ]
  },
  {
   "cell_type": "markdown",
   "metadata": {},
   "source": [
    "When the inheritance is made public, the user can publicly access to the information in the father class. WHen inheritated as protected or private, the user has the same restrictions as using a protected/private variable from a class but inside the class it is possible to use members and methods from father class."
   ]
  },
  {
   "cell_type": "markdown",
   "metadata": {},
   "source": []
  }
 ],
 "metadata": {
  "language_info": {
   "codemirror_mode": {
    "name": "ipython",
    "version": 3
   },
   "file_extension": ".py",
   "mimetype": "text/x-python",
   "name": "python",
   "nbconvert_exporter": "python",
   "pygments_lexer": "ipython3",
   "version": 3
  },
  "orig_nbformat": 2
 },
 "nbformat": 4,
 "nbformat_minor": 2
}